{
 "cells": [
  {
   "cell_type": "markdown",
   "metadata": {},
   "source": [
    "# Experimenting with least squares and its variants"
   ]
  },
  {
   "cell_type": "code",
   "execution_count": 1,
   "metadata": {},
   "outputs": [],
   "source": [
    "%matplotlib inline\n",
    "\n",
    "from sklearn import datasets\n",
    "from scipy.optimize import fmin_bfgs\n",
    "import numpy as np\n",
    "from numpy.linalg import norm\n",
    "from numpy.linalg import inv"
   ]
  },
  {
   "cell_type": "markdown",
   "metadata": {},
   "source": [
    "## Data preparation"
   ]
  },
  {
   "cell_type": "markdown",
   "metadata": {},
   "source": [
    "First step to apply the formulae we learnt during the lectures is to rewrite the dataset in homogeneous coordinates (i.e., we append a column of 1 to the matrix containing the examples):"
   ]
  },
  {
   "cell_type": "code",
   "execution_count": 2,
   "metadata": {},
   "outputs": [
    {
     "data": {
      "text/plain": [
       "(506, 14)"
      ]
     },
     "execution_count": 2,
     "metadata": {},
     "output_type": "execute_result"
    }
   ],
   "source": [
    "boston = datasets.load_boston()\n",
    "data = np.array(boston.data)\n",
    "data.shape\n",
    "\n",
    "t = np.ones(len(data)).reshape(len(data),1)\n",
    "data = np.append(data, t, 1)\n",
    "target = np.array(boston.target)\n",
    "data.shape"
   ]
  },
  {
   "cell_type": "markdown",
   "metadata": {},
   "source": [
    "We now divide the data into a training set $X$ and a test set $X_\\textrm{test}$."
   ]
  },
  {
   "cell_type": "code",
   "execution_count": 3,
   "metadata": {},
   "outputs": [],
   "source": [
    "X,y = data[0:400,:], target[0:400]\n",
    "X_test, y_test = data[400:,:], target[400:]"
   ]
  },
  {
   "cell_type": "markdown",
   "metadata": {},
   "source": [
    "# Exercise"
   ]
  },
  {
   "cell_type": "markdown",
   "metadata": {},
   "source": [
    "1. Calculate the least square solution (to the regression problem outlined above) and evaluate its performances on the training set and on the test set.\n",
    "1. Calculate the ridge regression solution (set lambda to 0.01) and evaluate its performances on the training set and on test set.\n",
    "1. Calculate the lasso regression solution and evaluate its performances on the training set and on the test set."
   ]
  },
  {
   "cell_type": "markdown",
   "metadata": {},
   "source": [
    "## Notes"
   ]
  },
  {
   "cell_type": "markdown",
   "metadata": {},
   "source": [
    "- Here it follows a list of functions you may want to use (the required packages are already imported at the beginning of this notebook) along with a very brief explanation of their purpose (`help(nomefun)` will provide you more information about function `nomefun`):\n",
    "    - `transpose`: matrix transposition (e.g., `transpose(X)`)\n",
    "    - `dot`: matrix multiplication (e.g., `X.dot(X2)`) \n",
    "    - `inv`: matrix inversion (e.g., `inv(X)`)\n",
    "- to solve the lasso problem you will need to perform a numerical minimization of the associated loss function (as you know, a closed form solution does not exist). There are many numerical optimization algorithms available in the scipy package. My suggestion is to use `fmin_bfgs`. Here it follows an example of how to use it:\n",
    "    ```python\n",
    "        def f(w):\n",
    "            return w[0]**2 + w[1]**2 + w[0] + w[1]\n",
    "        \n",
    "        w = fmin_bfgs(f, [0,0])\n",
    "    ```\n",
    "    note that the function may (and should) reference your data variables (i.e., $X$ and $y$).\n",
    "- to evaluate the performances of your solutions use the $S$ statistic:\n",
    "    $$\n",
    "        S =  \\sqrt{ \\frac{1}{n} \\sum_{i=1}^n (y_i' - y_i)^2 }\n",
    "    $$\n",
    "    where $y'_i$ is your model prediction for the i-th example, and $n$ is the number of examples."
   ]
  },
  {
   "cell_type": "markdown",
   "metadata": {},
   "source": [
    "# Exercise \\#1: Least squares for Linear Regression\n",
    "\n",
    "From the theory, we know that the optimal solution $w^*$ to the least squares that minimize the residuals sum have a closed form:\n",
    "$$ w^* = X^+y =(X^TX)^{-1}X^Ty$$"
   ]
  },
  {
   "cell_type": "code",
   "execution_count": 4,
   "metadata": {},
   "outputs": [
    {
     "data": {
      "text/plain": [
       "array([-1.91246374e-01,  4.42289967e-02,  5.52207977e-02,  1.71631351e+00,\n",
       "       -1.49957220e+01,  4.88773025e+00,  2.60921031e-03, -1.29480799e+00,\n",
       "        4.84787214e-01, -1.54006673e-02, -8.08795026e-01, -1.29230427e-03,\n",
       "       -5.17953791e-01,  2.86725996e+01])"
      ]
     },
     "execution_count": 4,
     "metadata": {},
     "output_type": "execute_result"
    }
   ],
   "source": [
    "w = np.linalg.pinv(X).dot(y)\n",
    "w"
   ]
  },
  {
   "cell_type": "markdown",
   "metadata": {},
   "source": [
    "To check if our results are consistent with more robust implementation, we compare our \"custom\" implementation with the one provided by sci-kit learn package"
   ]
  },
  {
   "cell_type": "code",
   "execution_count": 5,
   "metadata": {},
   "outputs": [
    {
     "name": "stdout",
     "output_type": "stream",
     "text": [
      "Custom and sklearn weight vector are equal!\n"
     ]
    }
   ],
   "source": [
    "from sklearn.linear_model import LinearRegression\n",
    "\n",
    "reg = LinearRegression(fit_intercept=False)\n",
    "reg.fit(X,y) # fit sklearn model to data\n",
    "\n",
    "custom_predictions = X_test.dot(w)\n",
    "sklearn_predictions = reg.predict(X_test)\n",
    "\n",
    "msg = \"Custom and sklearn weight vector are {}!\"\n",
    "print(msg.format(\"equal\")) if np.allclose(w, reg.coef_) else print(msg.format(\"different\"))"
   ]
  },
  {
   "cell_type": "markdown",
   "metadata": {},
   "source": [
    "### Evaluate model performance\n",
    "To evaluate the model performance, we compute the error on the *test set* using the RMSE metric.\n",
    "Since RMSE is expressed in the same unit scale of the target variable, to asses qualitatively the goodness of RMSE we check the regression variable range ($y_{max}-y_{min}$)"
   ]
  },
  {
   "cell_type": "code",
   "execution_count": 6,
   "metadata": {},
   "outputs": [
    {
     "name": "stdout",
     "output_type": "stream",
     "text": [
      "Model's RMSE on train: 4.723\n",
      "Model's RMSE on test: 6.156\n",
      "Target variable scale: 45.0\n"
     ]
    }
   ],
   "source": [
    "from sklearn.metrics import mean_squared_error\n",
    "\n",
    "rmse_train = mean_squared_error(y,X.dot(w),squared=False)\n",
    "rmse_test = mean_squared_error(y_test,custom_predictions,squared=False)\n",
    "print(\"Model's RMSE on train: {:.3f}\\nModel's RMSE on test: {:.3f}\\nTarget variable scale: {}\".format(rmse_train,rmse_test, np.ptp(target)))\n",
    "\n"
   ]
  },
  {
   "cell_type": "markdown",
   "metadata": {},
   "source": [
    "## Exercise \\#2: Use Ridge Regularization\n",
    "To make our model more robust to noise error into the data, we can apply the most basic regularization's technique: the *ridge regularization* method (aka *Tikhonov* regularization). In layman's terms this method apply a simple **constraint** on the model' weights vector constraining it's squared norm $||\\cdot||_2$. The regularization contribution can be tweaked by the *shrinkage parameter* $\\lambda$. The solution $w^*$ to the optimization problem could be rewrited as:\n",
    "\n",
    "$$ w^* = \\operatorname*{argmin}_w || y-Xw||^2_2 + \\lambda ||w||_2^2 $$\n",
    "\n",
    "Also in this case we have a closed form solution:\n",
    "$$ w^* =(X^TX + \\lambda I)^{-1}X^Ty$$\n"
   ]
  },
  {
   "cell_type": "code",
   "execution_count": 7,
   "metadata": {},
   "outputs": [
    {
     "data": {
      "text/plain": [
       "array([-1.91440894e-01,  4.42725237e-02,  5.43610777e-02,  1.71562849e+00,\n",
       "       -1.46631854e+01,  4.91104161e+00,  2.40041390e-03, -1.28746240e+00,\n",
       "        4.82736224e-01, -1.53750112e-02, -8.01618031e-01, -1.05056023e-03,\n",
       "       -5.16996650e-01,  2.81110919e+01])"
      ]
     },
     "execution_count": 7,
     "metadata": {},
     "output_type": "execute_result"
    }
   ],
   "source": [
    "shrinkage =0.01 # tweak shrinkage parameter\n",
    "\n",
    "def custom_ridge(X,y,shrinkage):\n",
    "    square_matrix = np.matmul(X.T,X)\n",
    "    I = np.identity(square_matrix.shape[0]) * shrinkage\n",
    "    inverse = np.linalg.inv(square_matrix + I)\n",
    "\n",
    "    w_ridge = np.matmul(inverse,X.T).dot(y)\n",
    "    \n",
    "    return w_ridge\n",
    "w_ridge = custom_ridge(X,y,shrinkage)\n",
    "w_ridge"
   ]
  },
  {
   "cell_type": "markdown",
   "metadata": {},
   "source": [
    "### Compare with sci-kit learn implementation"
   ]
  },
  {
   "cell_type": "code",
   "execution_count": 8,
   "metadata": {},
   "outputs": [
    {
     "name": "stdout",
     "output_type": "stream",
     "text": [
      "Custom  and sklearn regression coefficients are equal!\n"
     ]
    }
   ],
   "source": [
    "from sklearn.linear_model import Ridge\n",
    "\n",
    "ridge_reg = Ridge(alpha=shrinkage,fit_intercept=False)\n",
    "ridge_reg.fit(X,y) # fit sklearn model to data\n",
    "\n",
    "msg = \"Custom  and sklearn regression coefficients are {}!\"\n",
    "print(msg.format(\"equal\")) if np.allclose(w_ridge, ridge_reg.coef_) else print(msg.format(\"different\"))"
   ]
  },
  {
   "cell_type": "markdown",
   "metadata": {},
   "source": [
    "### Evaluate model performance"
   ]
  },
  {
   "cell_type": "code",
   "execution_count": 9,
   "metadata": {},
   "outputs": [
    {
     "name": "stdout",
     "output_type": "stream",
     "text": [
      "Model's RMSE on train: 4.723\n",
      "Model's RMSE on test: 6.142\n",
      "Target variable scale: 45.0\n"
     ]
    }
   ],
   "source": [
    "predictions = X_test.dot(w_ridge)\n",
    "\n",
    "rmse_train = mean_squared_error(y,X.dot(w_ridge),squared=False)\n",
    "rmse_test = mean_squared_error(y_test,predictions,squared=False)\n",
    "print(\"Model's RMSE on train: {:.3f}\\nModel's RMSE on test: {:.3f}\\nTarget variable scale: {}\".format(rmse_train,rmse_test, np.ptp(target)))"
   ]
  },
  {
   "cell_type": "markdown",
   "metadata": {},
   "source": [
    "### Shrinkage effect visualization\n",
    "To asses how weights changed when $\\lambda$ gets higher value, we train a different model with increasing shrinkage coefficient and than plot a line for each weight"
   ]
  },
  {
   "cell_type": "code",
   "execution_count": 10,
   "metadata": {},
   "outputs": [
    {
     "data": {
      "image/png": "[encoded data removed]",
      "text/plain": [
       "<Figure size 720x432 with 1 Axes>"
      ]
     },
     "metadata": {
      "needs_background": "light"
     },
     "output_type": "display_data"
    }
   ],
   "source": [
    "import matplotlib.pyplot as plt\n",
    "\n",
    "shrinkages = np.logspace(0,5,100)\n",
    "\n",
    "coeffs=[]\n",
    "for s in shrinkages:\n",
    "    w = custom_ridge(X,y,s)\n",
    "    coeffs.append(w)\n",
    "    \n",
    "    \n",
    "fig, ax = plt.subplots(1,1,figsize=(10,6))\n",
    "ax.plot(shrinkages,coeffs)\n",
    "\n",
    "ax.set_xscale('log')\n",
    "ax.set_xlabel(\"$\\lambda$\")\n",
    "ax.set_ylabel(\"Weights\")\n",
    "ax.set_title(\"Weights magnitude as a function of shrinkage parameter $\\lambda$\");"
   ]
  },
  {
   "cell_type": "markdown",
   "metadata": {},
   "source": [
    "## Exercise \\#3: Use LASSO Regularization\n",
    "Lasso regualarization methods is similar to the previus one, the main difference is that the constraint is expressed in $||\\cdot||_1$ norm. The solution $w^*$ to the optimization problem could be rewritten as:\n",
    "$$\n",
    "w^* = \\operatorname*{minimize}_w ||y-Xw||^2_2 + \\lambda||w||_1\n",
    "$$\n",
    "\n",
    "\n",
    "\n",
    "Unfortunately there's **no closed form solution**, so we must use an iterative optimization method to minimize the loss function"
   ]
  },
  {
   "cell_type": "code",
   "execution_count": 11,
   "metadata": {},
   "outputs": [],
   "source": [
    "import scipy.optimize as opt"
   ]
  },
  {
   "cell_type": "code",
   "execution_count": 12,
   "metadata": {},
   "outputs": [],
   "source": [
    "t = np.ones(len(data)).reshape(len(data),1)\n",
    "data = np.append(data, t, 1)\n",
    "target = np.array(boston.target)\n",
    "data.shape\n",
    "\n",
    "X,y = data[0:400,:], target[0:400]\n",
    "X_test, y_test = data[400:,:], target[400:]"
   ]
  },
  {
   "cell_type": "code",
   "execution_count": 13,
   "metadata": {},
   "outputs": [],
   "source": [
    "def lasso_loss(w,X,y,shrinkage):\n",
    "    pred = X.dot(w) # get prediction (y'=X*w)\n",
    "    ssd = np.sum((y-pred)**2) # sum of squared differences\n",
    "    \n",
    "    return  (1/(2*X.shape[0])) * ssd + shrinkage * np.linalg.norm(w,ord=1) #same formula used by sklearn Lasso implementation \"\"\"\"\"\"\n",
    "\n",
    "def lasso_fit(X,y,shrinkage):\n",
    "    \n",
    "    w_init = np.zeros(X.shape[1]) # null weights initilization scheme\n",
    "    res = opt.minimize(lasso_loss, x0=w_init, args=(X,y,shrinkage),\n",
    "                       method='Powell',options={'maxiter':100000,'disp':True})\n",
    "    return res['x']"
   ]
  },
  {
   "cell_type": "code",
   "execution_count": 14,
   "metadata": {},
   "outputs": [
    {
     "name": "stdout",
     "output_type": "stream",
     "text": [
      "Optimization terminated successfully.\n",
      "         Current function value: 25.382821\n",
      "         Iterations: 22\n",
      "         Function evaluations: 6790\n"
     ]
    },
    {
     "data": {
      "text/plain": [
       "array([-5.09436417e-02,  5.86596856e-02,  3.83946424e-06,  0.00000000e+00,\n",
       "        0.00000000e+00,  1.48595994e+00,  8.20648121e-02,  0.00000000e+00,\n",
       "       -7.03917622e-09,  3.54489988e-03,  2.07905586e-08,  4.39891851e-02,\n",
       "       -8.23802443e-01,  5.57174199e-12, -1.77273966e-12])"
      ]
     },
     "execution_count": 14,
     "metadata": {},
     "output_type": "execute_result"
    }
   ],
   "source": [
    "w_lasso = lasso_fit(X,y,shrinkage=2.5)\n",
    "w_lasso"
   ]
  },
  {
   "cell_type": "markdown",
   "metadata": {},
   "source": [
    "### Evaluate Model Performance"
   ]
  },
  {
   "cell_type": "code",
   "execution_count": 15,
   "metadata": {},
   "outputs": [
    {
     "name": "stdout",
     "output_type": "stream",
     "text": [
      "Model's RMSE on train: 6.166\n",
      "Model's RMSE on test: 7.631\n",
      "Target variable scale: 45.0\n"
     ]
    }
   ],
   "source": [
    "predictions = X_test.dot(w_lasso)\n",
    "\n",
    "rmse_train = mean_squared_error(y,X.dot(w_lasso),squared=False)\n",
    "rmse_test = mean_squared_error(y_test,predictions,squared=False)\n",
    "print(\"Model's RMSE on train: {:.3f}\\nModel's RMSE on test: {:.3f}\\nTarget variable scale: {}\".format(rmse_train,rmse_test, np.ptp(target)))"
   ]
  },
  {
   "cell_type": "markdown",
   "metadata": {},
   "source": [
    "#### Sklearn Lasso Implementation Comparison"
   ]
  },
  {
   "cell_type": "code",
   "execution_count": 16,
   "metadata": {},
   "outputs": [
    {
     "name": "stdout",
     "output_type": "stream",
     "text": [
      "Model's RMSE on train: 5.907\n",
      "Model's RMSE on test: 4.534\n",
      "Target variable scale: 45.0\n"
     ]
    }
   ],
   "source": [
    "from sklearn.linear_model import Lasso\n",
    "lasso = Lasso(alpha=2.5)\n",
    "lasso.fit(X,y)\n",
    "rmse_train = mean_squared_error(y,lasso.predict(X),squared=False)\n",
    "rmse_test = mean_squared_error(y_test,lasso.predict(X_test),squared=False)\n",
    "print(\"Model's RMSE on train: {:.3f}\\nModel's RMSE on test: {:.3f}\\nTarget variable scale: {}\".format(rmse_train,rmse_test, np.ptp(target)))"
   ]
  },
  {
   "cell_type": "markdown",
   "metadata": {},
   "source": [
    "We can see that sklearn lasso implemention have a sparse weight vector:"
   ]
  },
  {
   "cell_type": "code",
   "execution_count": 17,
   "metadata": {},
   "outputs": [
    {
     "data": {
      "text/plain": [
       "array([-0.        ,  0.03686395, -0.        ,  0.        ,  0.        ,\n",
       "        0.        ,  0.059244  , -0.06243391,  0.20312011, -0.01205994,\n",
       "       -0.47308683,  0.01031908, -0.90971843,  0.        ,  0.        ])"
      ]
     },
     "execution_count": 17,
     "metadata": {},
     "output_type": "execute_result"
    }
   ],
   "source": [
    "lasso.coef_"
   ]
  }
 ],
 "metadata": {
  "anaconda-cloud": {},
  "kernelspec": {
   "display_name": "Python 3",
   "language": "python",
   "name": "python3"
  },
  "language_info": {
   "codemirror_mode": {
    "name": "ipython",
    "version": 3
   },
   "file_extension": ".py",
   "mimetype": "text/x-python",
   "name": "python",
   "nbconvert_exporter": "python",
   "pygments_lexer": "ipython3",
   "version": "3.7.4"
  }
 },
 "nbformat": 4,
 "nbformat_minor": 4
}

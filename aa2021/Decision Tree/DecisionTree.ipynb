{
 "cells": [
  {
   "cell_type": "markdown",
   "metadata": {},
   "source": [
    "# Classifiers introduction\n",
    "\n",
    "In the following program we introduce the basic steps of classification of a dataset in a matrix"
   ]
  },
  {
   "cell_type": "markdown",
   "metadata": {},
   "source": [
    "Import the package for learning and modeling trees"
   ]
  },
  {
   "cell_type": "code",
   "execution_count": 1,
   "metadata": {
    "collapsed": false,
    "jupyter": {
     "outputs_hidden": false
    },
    "scrolled": true
   },
   "outputs": [],
   "source": [
    "from sklearn import tree \n",
    "from sklearn.model_selection import train_test_split\n",
    "from sklearn.utils import Bunch\n",
    "import sklearn as sklearn\n",
    "import matplotlib.pyplot as plt\n",
    "import matplotlib as mpl\n",
    "import numpy as np\n",
    "import graphviz\n",
    "\n",
    "eval_metrics={}\n",
    "\n",
    "\n",
    "def print_evaluations(metrics):\n",
    "    \"\"\"Utility function to print a dctionary of metrics\"\"\"\n",
    "    for dataset, metrics in eval_metrics.items():\n",
    "        msg = \"Model trained on {} dataset. Accuracy score: {:.4f}. \"\n",
    "        if 'f1-measure' in metrics:\n",
    "            msg += \"f1 score: {:0.4f}\".format(metrics['f1-measure'])\n",
    "        print(msg.format(dataset, metrics['accuracy']))\n",
    "        \n",
    "# Matplotlib global setup \n",
    "setosa_color = mpl.colors.to_rgb('#eb4d4b')\n",
    "versicolor_color = mpl.colors.to_rgb('#686de0')\n",
    "virginica_color = mpl.colors.to_rgb('#badc58')\n",
    "\n",
    "target_colors = [setosa_color,versicolor_color,virginica_color]"
   ]
  },
  {
   "cell_type": "markdown",
   "metadata": {},
   "source": [
    "Define the matrix containing the data (one example per row)\n",
    "and the vector containing the corresponding target value"
   ]
  },
  {
   "cell_type": "markdown",
   "metadata": {},
   "source": [
    "In the following we start using a dataset (from UCI Machine Learning repository)"
   ]
  },
  {
   "cell_type": "code",
   "execution_count": 2,
   "metadata": {},
   "outputs": [],
   "source": [
    "from sklearn.datasets import load_iris\n",
    "iris = load_iris()"
   ]
  },
  {
   "cell_type": "markdown",
   "metadata": {},
   "source": [
    "## Learn a Tree with default configuration"
   ]
  },
  {
   "cell_type": "code",
   "execution_count": 3,
   "metadata": {
    "collapsed": false,
    "jupyter": {
     "outputs_hidden": false
    }
   },
   "outputs": [
    {
     "data": {
      "text/plain": [
       "DecisionTreeClassifier(criterion='entropy', min_samples_leaf=5,\n",
       "                       random_state=300)"
      ]
     },
     "execution_count": 3,
     "metadata": {},
     "output_type": "execute_result"
    }
   ],
   "source": [
    "X_train, X_test, y_train, y_test  = train_test_split(iris.data,iris.target,test_size=0.25)\n",
    "\n",
    "clf = tree.DecisionTreeClassifier(criterion=\"entropy\",random_state=300,min_samples_leaf=5)\n",
    "clf.fit(X_train,y_train)\n"
   ]
  },
  {
   "cell_type": "markdown",
   "metadata": {},
   "source": [
    "## Model evaluation predictions"
   ]
  },
  {
   "cell_type": "code",
   "execution_count": 4,
   "metadata": {
    "collapsed": false,
    "jupyter": {
     "outputs_hidden": false
    }
   },
   "outputs": [
    {
     "name": "stdout",
     "output_type": "stream",
     "text": [
      "Predictions:\n",
      "[1 2 1 2 0 0 2 0 0 2 0 1 0 2 0 2 0 2 1 0 2 1 0 1 2 2 0 2 2 0 2 2 0 1 0 1 0\n",
      " 0]\n",
      "True classes:\n",
      "[1 2 1 1 0 0 2 0 0 2 0 1 0 2 0 2 0 2 1 0 2 1 0 1 1 2 0 1 2 0 2 1 0 1 0 1 0\n",
      " 0]\n",
      "Model trained on iris dataset. Accuracy score: 0.8947. f1 score: 0.8778\n"
     ]
    }
   ],
   "source": [
    "# apply fitted model \"clf\" to the test set \n",
    "\n",
    "predictions = clf.predict(X_test)\n",
    "# print the predictions (class numbers associated to classes names in target names)\n",
    "print(\"Predictions:\")\n",
    "print(predictions)\n",
    "print(\"True classes:\")\n",
    "print(y_test) \n",
    "\n",
    "# print some metrics results\n",
    "from sklearn.metrics import accuracy_score\n",
    "from sklearn.metrics import f1_score\n",
    "acc_score = accuracy_score(y_test, predictions)\n",
    "f1=f1_score(y_test, predictions, average='macro')\n",
    "\n",
    "\n",
    "eval_metrics['iris']={'accuracy':acc_score,'f1-measure':f1}\n",
    "print_evaluations(eval_metrics)"
   ]
  },
  {
   "cell_type": "markdown",
   "metadata": {},
   "source": [
    "# Show the tree "
   ]
  },
  {
   "cell_type": "code",
   "execution_count": 5,
   "metadata": {
    "collapsed": false,
    "jupyter": {
     "outputs_hidden": false
    }
   },
   "outputs": [
    {
     "data": {
      "image/svg+xml": [
       "<?xml version=\"1.0\" encoding=\"UTF-8\" standalone=\"no\"?>\n",
       "<!DOCTYPE svg PUBLIC \"-//W3C//DTD SVG 1.1//EN\"\n",
       " \"http://www.w3.org/Graphics/SVG/1.1/DTD/svg11.dtd\">\n",
       "<!-- Generated by graphviz version 2.40.1 (20161225.0304)\n",
       " -->\n",
       "<!-- Title: Tree Pages: 1 -->\n",
       "<svg width=\"554pt\" height=\"433pt\"\n",
       " viewBox=\"0.00 0.00 553.50 433.00\" xmlns=\"http://www.w3.org/2000/svg\" xmlns:xlink=\"http://www.w3.org/1999/xlink\">\n",
       "<g id=\"graph0\" class=\"graph\" transform=\"scale(1 1) rotate(0) translate(4 429)\">\n",
       "<title>Tree</title>\n",
       "<polygon fill=\"#ffffff\" stroke=\"transparent\" points=\"-4,4 -4,-429 549.5,-429 549.5,4 -4,4\"/>\n",
       "<!-- 0 -->\n",
       "<g id=\"node1\" class=\"node\">\n",
       "<title>0</title>\n",
       "<path fill=\"#fcfafe\" stroke=\"#000000\" d=\"M260.5,-425C260.5,-425 131.5,-425 131.5,-425 125.5,-425 119.5,-419 119.5,-413 119.5,-413 119.5,-354 119.5,-354 119.5,-348 125.5,-342 131.5,-342 131.5,-342 260.5,-342 260.5,-342 266.5,-342 272.5,-348 272.5,-354 272.5,-354 272.5,-413 272.5,-413 272.5,-419 266.5,-425 260.5,-425\"/>\n",
       "<text text-anchor=\"start\" x=\"127.5\" y=\"-409.8\" font-family=\"Helvetica,sans-Serif\" font-size=\"14.00\" fill=\"#000000\">petal length (cm) ≤ 2.6</text>\n",
       "<text text-anchor=\"start\" x=\"147\" y=\"-394.8\" font-family=\"Helvetica,sans-Serif\" font-size=\"14.00\" fill=\"#000000\">entropy = 1.582</text>\n",
       "<text text-anchor=\"start\" x=\"152\" y=\"-379.8\" font-family=\"Helvetica,sans-Serif\" font-size=\"14.00\" fill=\"#000000\">samples = 112</text>\n",
       "<text text-anchor=\"start\" x=\"138\" y=\"-364.8\" font-family=\"Helvetica,sans-Serif\" font-size=\"14.00\" fill=\"#000000\">value = [34, 38, 40]</text>\n",
       "<text text-anchor=\"start\" x=\"147\" y=\"-349.8\" font-family=\"Helvetica,sans-Serif\" font-size=\"14.00\" fill=\"#000000\">class = virginica</text>\n",
       "</g>\n",
       "<!-- 1 -->\n",
       "<g id=\"node2\" class=\"node\">\n",
       "<title>1</title>\n",
       "<path fill=\"#e58139\" stroke=\"#000000\" d=\"M164.5,-298.5C164.5,-298.5 71.5,-298.5 71.5,-298.5 65.5,-298.5 59.5,-292.5 59.5,-286.5 59.5,-286.5 59.5,-242.5 59.5,-242.5 59.5,-236.5 65.5,-230.5 71.5,-230.5 71.5,-230.5 164.5,-230.5 164.5,-230.5 170.5,-230.5 176.5,-236.5 176.5,-242.5 176.5,-242.5 176.5,-286.5 176.5,-286.5 176.5,-292.5 170.5,-298.5 164.5,-298.5\"/>\n",
       "<text text-anchor=\"start\" x=\"76.5\" y=\"-283.3\" font-family=\"Helvetica,sans-Serif\" font-size=\"14.00\" fill=\"#000000\">entropy = 0.0</text>\n",
       "<text text-anchor=\"start\" x=\"77.5\" y=\"-268.3\" font-family=\"Helvetica,sans-Serif\" font-size=\"14.00\" fill=\"#000000\">samples = 34</text>\n",
       "<text text-anchor=\"start\" x=\"67.5\" y=\"-253.3\" font-family=\"Helvetica,sans-Serif\" font-size=\"14.00\" fill=\"#000000\">value = [34, 0, 0]</text>\n",
       "<text text-anchor=\"start\" x=\"74\" y=\"-238.3\" font-family=\"Helvetica,sans-Serif\" font-size=\"14.00\" fill=\"#000000\">class = setosa</text>\n",
       "</g>\n",
       "<!-- 0&#45;&gt;1 -->\n",
       "<g id=\"edge1\" class=\"edge\">\n",
       "<title>0&#45;&gt;1</title>\n",
       "<path fill=\"none\" stroke=\"#000000\" d=\"M168.7194,-341.8796C161.3677,-330.6636 153.4036,-318.5131 146.0126,-307.2372\"/>\n",
       "<polygon fill=\"#000000\" stroke=\"#000000\" points=\"148.9014,-305.2598 140.4921,-298.8149 143.0469,-309.0972 148.9014,-305.2598\"/>\n",
       "<text text-anchor=\"middle\" x=\"135.3982\" y=\"-319.5905\" font-family=\"Helvetica,sans-Serif\" font-size=\"14.00\" fill=\"#000000\">True</text>\n",
       "</g>\n",
       "<!-- 2 -->\n",
       "<g id=\"node3\" class=\"node\">\n",
       "<title>2</title>\n",
       "<path fill=\"#f9f5fe\" stroke=\"#000000\" d=\"M343.5,-306C343.5,-306 206.5,-306 206.5,-306 200.5,-306 194.5,-300 194.5,-294 194.5,-294 194.5,-235 194.5,-235 194.5,-229 200.5,-223 206.5,-223 206.5,-223 343.5,-223 343.5,-223 349.5,-223 355.5,-229 355.5,-235 355.5,-235 355.5,-294 355.5,-294 355.5,-300 349.5,-306 343.5,-306\"/>\n",
       "<text text-anchor=\"start\" x=\"202.5\" y=\"-290.8\" font-family=\"Helvetica,sans-Serif\" font-size=\"14.00\" fill=\"#000000\">petal length (cm) ≤ 4.85</text>\n",
       "<text text-anchor=\"start\" x=\"233.5\" y=\"-275.8\" font-family=\"Helvetica,sans-Serif\" font-size=\"14.00\" fill=\"#000000\">entropy = 1.0</text>\n",
       "<text text-anchor=\"start\" x=\"234.5\" y=\"-260.8\" font-family=\"Helvetica,sans-Serif\" font-size=\"14.00\" fill=\"#000000\">samples = 78</text>\n",
       "<text text-anchor=\"start\" x=\"220.5\" y=\"-245.8\" font-family=\"Helvetica,sans-Serif\" font-size=\"14.00\" fill=\"#000000\">value = [0, 38, 40]</text>\n",
       "<text text-anchor=\"start\" x=\"226\" y=\"-230.8\" font-family=\"Helvetica,sans-Serif\" font-size=\"14.00\" fill=\"#000000\">class = virginica</text>\n",
       "</g>\n",
       "<!-- 0&#45;&gt;2 -->\n",
       "<g id=\"edge2\" class=\"edge\">\n",
       "<title>0&#45;&gt;2</title>\n",
       "<path fill=\"none\" stroke=\"#000000\" d=\"M223.6304,-341.8796C229.43,-333.1434 235.6059,-323.8404 241.5908,-314.8253\"/>\n",
       "<polygon fill=\"#000000\" stroke=\"#000000\" points=\"244.6368,-316.5652 247.2517,-306.2981 238.8049,-312.6935 244.6368,-316.5652\"/>\n",
       "<text text-anchor=\"middle\" x=\"252.2022\" y=\"-327.103\" font-family=\"Helvetica,sans-Serif\" font-size=\"14.00\" fill=\"#000000\">False</text>\n",
       "</g>\n",
       "<!-- 3 -->\n",
       "<g id=\"node4\" class=\"node\">\n",
       "<title>3</title>\n",
       "<path fill=\"#49e78b\" stroke=\"#000000\" d=\"M253,-187C253,-187 121,-187 121,-187 115,-187 109,-181 109,-175 109,-175 109,-116 109,-116 109,-110 115,-104 121,-104 121,-104 253,-104 253,-104 259,-104 265,-110 265,-116 265,-116 265,-175 265,-175 265,-181 259,-187 253,-187\"/>\n",
       "<text text-anchor=\"start\" x=\"117\" y=\"-171.8\" font-family=\"Helvetica,sans-Serif\" font-size=\"14.00\" fill=\"#000000\">petal width (cm) ≤ 1.55</text>\n",
       "<text text-anchor=\"start\" x=\"138\" y=\"-156.8\" font-family=\"Helvetica,sans-Serif\" font-size=\"14.00\" fill=\"#000000\">entropy = 0.384</text>\n",
       "<text text-anchor=\"start\" x=\"146.5\" y=\"-141.8\" font-family=\"Helvetica,sans-Serif\" font-size=\"14.00\" fill=\"#000000\">samples = 40</text>\n",
       "<text text-anchor=\"start\" x=\"136.5\" y=\"-126.8\" font-family=\"Helvetica,sans-Serif\" font-size=\"14.00\" fill=\"#000000\">value = [0, 37, 3]</text>\n",
       "<text text-anchor=\"start\" x=\"133\" y=\"-111.8\" font-family=\"Helvetica,sans-Serif\" font-size=\"14.00\" fill=\"#000000\">class = versicolor</text>\n",
       "</g>\n",
       "<!-- 2&#45;&gt;3 -->\n",
       "<g id=\"edge3\" class=\"edge\">\n",
       "<title>2&#45;&gt;3</title>\n",
       "<path fill=\"none\" stroke=\"#000000\" d=\"M244.2219,-222.8796C237.6949,-214.0534 230.7401,-204.6485 224.0092,-195.5466\"/>\n",
       "<polygon fill=\"#000000\" stroke=\"#000000\" points=\"226.6695,-193.2574 217.9095,-187.2981 221.0412,-197.4195 226.6695,-193.2574\"/>\n",
       "</g>\n",
       "<!-- 6 -->\n",
       "<g id=\"node7\" class=\"node\">\n",
       "<title>6</title>\n",
       "<path fill=\"#843ee6\" stroke=\"#000000\" d=\"M432.5,-187C432.5,-187 295.5,-187 295.5,-187 289.5,-187 283.5,-181 283.5,-175 283.5,-175 283.5,-116 283.5,-116 283.5,-110 289.5,-104 295.5,-104 295.5,-104 432.5,-104 432.5,-104 438.5,-104 444.5,-110 444.5,-116 444.5,-116 444.5,-175 444.5,-175 444.5,-181 438.5,-187 432.5,-187\"/>\n",
       "<text text-anchor=\"start\" x=\"291.5\" y=\"-171.8\" font-family=\"Helvetica,sans-Serif\" font-size=\"14.00\" fill=\"#000000\">petal length (cm) ≤ 5.05</text>\n",
       "<text text-anchor=\"start\" x=\"315\" y=\"-156.8\" font-family=\"Helvetica,sans-Serif\" font-size=\"14.00\" fill=\"#000000\">entropy = 0.176</text>\n",
       "<text text-anchor=\"start\" x=\"323.5\" y=\"-141.8\" font-family=\"Helvetica,sans-Serif\" font-size=\"14.00\" fill=\"#000000\">samples = 38</text>\n",
       "<text text-anchor=\"start\" x=\"313.5\" y=\"-126.8\" font-family=\"Helvetica,sans-Serif\" font-size=\"14.00\" fill=\"#000000\">value = [0, 1, 37]</text>\n",
       "<text text-anchor=\"start\" x=\"315\" y=\"-111.8\" font-family=\"Helvetica,sans-Serif\" font-size=\"14.00\" fill=\"#000000\">class = virginica</text>\n",
       "</g>\n",
       "<!-- 2&#45;&gt;6 -->\n",
       "<g id=\"edge6\" class=\"edge\">\n",
       "<title>2&#45;&gt;6</title>\n",
       "<path fill=\"none\" stroke=\"#000000\" d=\"M306.1279,-222.8796C312.729,-214.0534 319.7629,-204.6485 326.5702,-195.5466\"/>\n",
       "<polygon fill=\"#000000\" stroke=\"#000000\" points=\"329.5528,-197.4024 332.7393,-187.2981 323.9472,-193.2099 329.5528,-197.4024\"/>\n",
       "</g>\n",
       "<!-- 4 -->\n",
       "<g id=\"node5\" class=\"node\">\n",
       "<title>4</title>\n",
       "<path fill=\"#39e581\" stroke=\"#000000\" d=\"M112,-68C112,-68 12,-68 12,-68 6,-68 0,-62 0,-56 0,-56 0,-12 0,-12 0,-6 6,0 12,0 12,0 112,0 112,0 118,0 124,-6 124,-12 124,-12 124,-56 124,-56 124,-62 118,-68 112,-68\"/>\n",
       "<text text-anchor=\"start\" x=\"20.5\" y=\"-52.8\" font-family=\"Helvetica,sans-Serif\" font-size=\"14.00\" fill=\"#000000\">entropy = 0.0</text>\n",
       "<text text-anchor=\"start\" x=\"21.5\" y=\"-37.8\" font-family=\"Helvetica,sans-Serif\" font-size=\"14.00\" fill=\"#000000\">samples = 35</text>\n",
       "<text text-anchor=\"start\" x=\"11.5\" y=\"-22.8\" font-family=\"Helvetica,sans-Serif\" font-size=\"14.00\" fill=\"#000000\">value = [0, 35, 0]</text>\n",
       "<text text-anchor=\"start\" x=\"8\" y=\"-7.8\" font-family=\"Helvetica,sans-Serif\" font-size=\"14.00\" fill=\"#000000\">class = versicolor</text>\n",
       "</g>\n",
       "<!-- 3&#45;&gt;4 -->\n",
       "<g id=\"edge4\" class=\"edge\">\n",
       "<title>3&#45;&gt;4</title>\n",
       "<path fill=\"none\" stroke=\"#000000\" d=\"M140.4546,-103.9815C129.8421,-94.5151 118.5718,-84.462 107.9829,-75.0168\"/>\n",
       "<polygon fill=\"#000000\" stroke=\"#000000\" points=\"110.2046,-72.3084 100.4122,-68.2637 105.5449,-77.5322 110.2046,-72.3084\"/>\n",
       "</g>\n",
       "<!-- 5 -->\n",
       "<g id=\"node6\" class=\"node\">\n",
       "<title>5</title>\n",
       "<path fill=\"#d5bdf6\" stroke=\"#000000\" d=\"M244,-68C244,-68 154,-68 154,-68 148,-68 142,-62 142,-56 142,-56 142,-12 142,-12 142,-6 148,0 154,0 154,0 244,0 244,0 250,0 256,-6 256,-12 256,-12 256,-56 256,-56 256,-62 250,-68 244,-68\"/>\n",
       "<text text-anchor=\"start\" x=\"150\" y=\"-52.8\" font-family=\"Helvetica,sans-Serif\" font-size=\"14.00\" fill=\"#000000\">entropy = 0.971</text>\n",
       "<text text-anchor=\"start\" x=\"162.5\" y=\"-37.8\" font-family=\"Helvetica,sans-Serif\" font-size=\"14.00\" fill=\"#000000\">samples = 5</text>\n",
       "<text text-anchor=\"start\" x=\"152\" y=\"-22.8\" font-family=\"Helvetica,sans-Serif\" font-size=\"14.00\" fill=\"#000000\">value = [0, 2, 3]</text>\n",
       "<text text-anchor=\"start\" x=\"150\" y=\"-7.8\" font-family=\"Helvetica,sans-Serif\" font-size=\"14.00\" fill=\"#000000\">class = virginica</text>\n",
       "</g>\n",
       "<!-- 3&#45;&gt;5 -->\n",
       "<g id=\"edge5\" class=\"edge\">\n",
       "<title>3&#45;&gt;5</title>\n",
       "<path fill=\"none\" stroke=\"#000000\" d=\"M191.4684,-103.9815C192.3685,-95.618 193.3179,-86.7965 194.2279,-78.3409\"/>\n",
       "<polygon fill=\"#000000\" stroke=\"#000000\" points=\"197.7222,-78.5808 195.3124,-68.2637 190.7624,-77.8317 197.7222,-78.5808\"/>\n",
       "</g>\n",
       "<!-- 7 -->\n",
       "<g id=\"node8\" class=\"node\">\n",
       "<title>7</title>\n",
       "<path fill=\"#a06aec\" stroke=\"#000000\" d=\"M398,-68C398,-68 308,-68 308,-68 302,-68 296,-62 296,-56 296,-56 296,-12 296,-12 296,-6 302,0 308,0 308,0 398,0 398,0 404,0 410,-6 410,-12 410,-12 410,-56 410,-56 410,-62 404,-68 398,-68\"/>\n",
       "<text text-anchor=\"start\" x=\"304\" y=\"-52.8\" font-family=\"Helvetica,sans-Serif\" font-size=\"14.00\" fill=\"#000000\">entropy = 0.722</text>\n",
       "<text text-anchor=\"start\" x=\"316.5\" y=\"-37.8\" font-family=\"Helvetica,sans-Serif\" font-size=\"14.00\" fill=\"#000000\">samples = 5</text>\n",
       "<text text-anchor=\"start\" x=\"306\" y=\"-22.8\" font-family=\"Helvetica,sans-Serif\" font-size=\"14.00\" fill=\"#000000\">value = [0, 1, 4]</text>\n",
       "<text text-anchor=\"start\" x=\"304\" y=\"-7.8\" font-family=\"Helvetica,sans-Serif\" font-size=\"14.00\" fill=\"#000000\">class = virginica</text>\n",
       "</g>\n",
       "<!-- 6&#45;&gt;7 -->\n",
       "<g id=\"edge7\" class=\"edge\">\n",
       "<title>6&#45;&gt;7</title>\n",
       "<path fill=\"none\" stroke=\"#000000\" d=\"M359.904,-103.9815C359.0789,-95.618 358.2086,-86.7965 357.3744,-78.3409\"/>\n",
       "<polygon fill=\"#000000\" stroke=\"#000000\" points=\"360.8452,-77.8717 356.3803,-68.2637 353.8791,-78.559 360.8452,-77.8717\"/>\n",
       "</g>\n",
       "<!-- 8 -->\n",
       "<g id=\"node9\" class=\"node\">\n",
       "<title>8</title>\n",
       "<path fill=\"#8139e5\" stroke=\"#000000\" d=\"M533.5,-68C533.5,-68 440.5,-68 440.5,-68 434.5,-68 428.5,-62 428.5,-56 428.5,-56 428.5,-12 428.5,-12 428.5,-6 434.5,0 440.5,0 440.5,0 533.5,0 533.5,0 539.5,0 545.5,-6 545.5,-12 545.5,-12 545.5,-56 545.5,-56 545.5,-62 539.5,-68 533.5,-68\"/>\n",
       "<text text-anchor=\"start\" x=\"445.5\" y=\"-52.8\" font-family=\"Helvetica,sans-Serif\" font-size=\"14.00\" fill=\"#000000\">entropy = 0.0</text>\n",
       "<text text-anchor=\"start\" x=\"446.5\" y=\"-37.8\" font-family=\"Helvetica,sans-Serif\" font-size=\"14.00\" fill=\"#000000\">samples = 33</text>\n",
       "<text text-anchor=\"start\" x=\"436.5\" y=\"-22.8\" font-family=\"Helvetica,sans-Serif\" font-size=\"14.00\" fill=\"#000000\">value = [0, 0, 33]</text>\n",
       "<text text-anchor=\"start\" x=\"438\" y=\"-7.8\" font-family=\"Helvetica,sans-Serif\" font-size=\"14.00\" fill=\"#000000\">class = virginica</text>\n",
       "</g>\n",
       "<!-- 6&#45;&gt;8 -->\n",
       "<g id=\"edge8\" class=\"edge\">\n",
       "<title>6&#45;&gt;8</title>\n",
       "<path fill=\"none\" stroke=\"#000000\" d=\"M409.8007,-103.9815C420.2434,-94.5151 431.3333,-84.462 441.7528,-75.0168\"/>\n",
       "<polygon fill=\"#000000\" stroke=\"#000000\" points=\"444.1441,-77.5731 449.2024,-68.2637 439.4428,-72.3868 444.1441,-77.5731\"/>\n",
       "</g>\n",
       "</g>\n",
       "</svg>\n"
      ],
      "text/plain": [
       "<graphviz.files.Source at 0x7f1df65659d0>"
      ]
     },
     "execution_count": 5,
     "metadata": {},
     "output_type": "execute_result"
    }
   ],
   "source": [
    "dot_data = tree.export_graphviz(clf, out_file=None, \n",
    "                         feature_names=iris.feature_names, \n",
    "                         class_names=iris.target_names, \n",
    "                         filled=True, rounded=True,  \n",
    "                         special_characters=True)  \n",
    "graph = graphviz.Source(dot_data)  \n",
    "graph"
   ]
  },
  {
   "cell_type": "markdown",
   "metadata": {},
   "source": [
    "# Exercise \\#1: Artificial Inflation on training set"
   ]
  },
  {
   "cell_type": "code",
   "execution_count": 6,
   "metadata": {},
   "outputs": [],
   "source": [
    "INFLATION_REPETITIONS = 10\n",
    "\n",
    "iris_stacked = np.column_stack((X_train,y_train)) # merge together features and labels columnwisely\n",
    "\n",
    "# get indeces for the specified classes\n",
    "virginica_indeces = np.where(iris_stacked[:,4]==1) # versicolor\n",
    "versicolor_indeces = np.where(iris_stacked[:,4]==2) # virginica\n",
    "\n",
    "# get instances for the specified classes\n",
    "virginica = iris_stacked[virginica_indeces]\n",
    "versicolor = iris_stacked[versicolor_indeces]\n",
    "\n",
    "# inflating\n",
    "virginica = np.repeat(virginica, INFLATION_REPETITIONS, axis=0)\n",
    "versicolor = np.repeat(versicolor, INFLATION_REPETITIONS, axis=0)\n",
    "\n",
    "# merging\n",
    "inflated_iris = np.row_stack((iris_stacked, virginica, versicolor))"
   ]
  },
  {
   "cell_type": "markdown",
   "metadata": {},
   "source": [
    "### Visualize class distribution"
   ]
  },
  {
   "cell_type": "code",
   "execution_count": 7,
   "metadata": {},
   "outputs": [
    {
     "data": {
      "image/png": "[encoded data removed]",
      "text/plain": [
       "<Figure size 1008x288 with 2 Axes>"
      ]
     },
     "metadata": {
      "needs_background": "light"
     },
     "output_type": "display_data"
    }
   ],
   "source": [
    "# plot class distributions\n",
    "fig, axes = plt.subplots(1,2,figsize=(14,4))\n",
    "\n",
    "class_distrib = np.bincount(iris_stacked[:,4].astype(np.int))\n",
    "inflated_class_distrib = np.bincount(inflated_iris[:,4].astype(np.int))\n",
    "\n",
    "bins=[0,1,2]\n",
    "axes[0].bar(bins, class_distrib, tick_label=iris.target_names, color=[setosa_color,versicolor_color,virginica_color])\n",
    "axes[0].set_title(\"Iris Class Distribution\");\n",
    "\n",
    "\n",
    "axes[1].bar(bins, inflated_class_distrib, tick_label=iris.target_names, color=[setosa_color,versicolor_color,virginica_color])\n",
    "axes[1].set_title(\"Iris Class Distribution (inflated)\");"
   ]
  },
  {
   "cell_type": "markdown",
   "metadata": {},
   "source": [
    "### Train and Evaluate on Inflated Dataset\n",
    "\n",
    "Evaluating the model with the augmented dataset, virginica and versicolor' istances are 10 times more than the original iris dataset. The model evaluation is executed with 10-fold cross validation"
   ]
  },
  {
   "cell_type": "code",
   "execution_count": 8,
   "metadata": {},
   "outputs": [
    {
     "name": "stdout",
     "output_type": "stream",
     "text": [
      "Model trained on iris dataset. Accuracy score: 0.8947. f1 score: 0.8778\n",
      "Model trained on inflated-iris dataset. Accuracy score: 0.9474. f1 score: 0.9394\n"
     ]
    }
   ],
   "source": [
    "# train and evaluate on inflated iris\n",
    "inflated_X_train = inflated_iris[:,0:4] # 0 to 3 are features columns\n",
    "inflated_y_train = inflated_iris[:,4] # target column\n",
    "\n",
    "clf.fit(inflated_X_train,inflated_y_train)\n",
    "predictions = clf.predict(X_test)\n",
    "\n",
    "acc_score = accuracy_score(y_test, predictions)\n",
    "f1=sklearn.metrics.f1_score(y_test, predictions, average='macro')\n",
    "\n",
    "eval_metrics['inflated-iris']={'accuracy':acc_score,'f1-measure':f1}\n",
    "\n",
    "print_evaluations(eval_metrics)"
   ]
  },
  {
   "cell_type": "code",
   "execution_count": 9,
   "metadata": {},
   "outputs": [
    {
     "data": {
      "image/svg+xml": [
       "<?xml version=\"1.0\" encoding=\"UTF-8\" standalone=\"no\"?>\n",
       "<!DOCTYPE svg PUBLIC \"-//W3C//DTD SVG 1.1//EN\"\n",
       " \"http://www.w3.org/Graphics/SVG/1.1/DTD/svg11.dtd\">\n",
       "<!-- Generated by graphviz version 2.40.1 (20161225.0304)\n",
       " -->\n",
       "<!-- Title: Tree Pages: 1 -->\n",
       "<svg width=\"617pt\" height=\"552pt\"\n",
       " viewBox=\"0.00 0.00 617.00 552.00\" xmlns=\"http://www.w3.org/2000/svg\" xmlns:xlink=\"http://www.w3.org/1999/xlink\">\n",
       "<g id=\"graph0\" class=\"graph\" transform=\"scale(1 1) rotate(0) translate(4 548)\">\n",
       "<title>Tree</title>\n",
       "<polygon fill=\"#ffffff\" stroke=\"transparent\" points=\"-4,4 -4,-548 613,-548 613,4 -4,4\"/>\n",
       "<!-- 0 -->\n",
       "<g id=\"node1\" class=\"node\">\n",
       "<title>0</title>\n",
       "<path fill=\"#f9f6fe\" stroke=\"#000000\" d=\"M369,-544C369,-544 232,-544 232,-544 226,-544 220,-538 220,-532 220,-532 220,-473 220,-473 220,-467 226,-461 232,-461 232,-461 369,-461 369,-461 375,-461 381,-467 381,-473 381,-473 381,-532 381,-532 381,-538 375,-544 369,-544\"/>\n",
       "<text text-anchor=\"start\" x=\"228\" y=\"-528.8\" font-family=\"Helvetica,sans-Serif\" font-size=\"14.00\" fill=\"#000000\">petal length (cm) ≤ 4.75</text>\n",
       "<text text-anchor=\"start\" x=\"251.5\" y=\"-513.8\" font-family=\"Helvetica,sans-Serif\" font-size=\"14.00\" fill=\"#000000\">entropy = 1.195</text>\n",
       "<text text-anchor=\"start\" x=\"256.5\" y=\"-498.8\" font-family=\"Helvetica,sans-Serif\" font-size=\"14.00\" fill=\"#000000\">samples = 892</text>\n",
       "<text text-anchor=\"start\" x=\"235\" y=\"-483.8\" font-family=\"Helvetica,sans-Serif\" font-size=\"14.00\" fill=\"#000000\">value = [34, 418, 440]</text>\n",
       "<text text-anchor=\"start\" x=\"251.5\" y=\"-468.8\" font-family=\"Helvetica,sans-Serif\" font-size=\"14.00\" fill=\"#000000\">class = virginica</text>\n",
       "</g>\n",
       "<!-- 1 -->\n",
       "<g id=\"node2\" class=\"node\">\n",
       "<title>1</title>\n",
       "<path fill=\"#50e88f\" stroke=\"#000000\" d=\"M278,-425C278,-425 149,-425 149,-425 143,-425 137,-419 137,-413 137,-413 137,-354 137,-354 137,-348 143,-342 149,-342 149,-342 278,-342 278,-342 284,-342 290,-348 290,-354 290,-354 290,-413 290,-413 290,-419 284,-425 278,-425\"/>\n",
       "<text text-anchor=\"start\" x=\"145\" y=\"-409.8\" font-family=\"Helvetica,sans-Serif\" font-size=\"14.00\" fill=\"#000000\">petal length (cm) ≤ 2.6</text>\n",
       "<text text-anchor=\"start\" x=\"164.5\" y=\"-394.8\" font-family=\"Helvetica,sans-Serif\" font-size=\"14.00\" fill=\"#000000\">entropy = 0.568</text>\n",
       "<text text-anchor=\"start\" x=\"169.5\" y=\"-379.8\" font-family=\"Helvetica,sans-Serif\" font-size=\"14.00\" fill=\"#000000\">samples = 430</text>\n",
       "<text text-anchor=\"start\" x=\"151.5\" y=\"-364.8\" font-family=\"Helvetica,sans-Serif\" font-size=\"14.00\" fill=\"#000000\">value = [34, 385, 11]</text>\n",
       "<text text-anchor=\"start\" x=\"159.5\" y=\"-349.8\" font-family=\"Helvetica,sans-Serif\" font-size=\"14.00\" fill=\"#000000\">class = versicolor</text>\n",
       "</g>\n",
       "<!-- 0&#45;&gt;1 -->\n",
       "<g id=\"edge1\" class=\"edge\">\n",
       "<title>0&#45;&gt;1</title>\n",
       "<path fill=\"none\" stroke=\"#000000\" d=\"M270.0716,-460.8796C263.6189,-452.0534 256.743,-442.6485 250.0887,-433.5466\"/>\n",
       "<polygon fill=\"#000000\" stroke=\"#000000\" points=\"252.7856,-431.3051 244.0583,-425.2981 247.1347,-435.4364 252.7856,-431.3051\"/>\n",
       "<text text-anchor=\"middle\" x=\"240.2208\" y=\"-446.3018\" font-family=\"Helvetica,sans-Serif\" font-size=\"14.00\" fill=\"#000000\">True</text>\n",
       "</g>\n",
       "<!-- 6 -->\n",
       "<g id=\"node7\" class=\"node\">\n",
       "<title>6</title>\n",
       "<path fill=\"#8b48e7\" stroke=\"#000000\" d=\"M457,-425C457,-425 320,-425 320,-425 314,-425 308,-419 308,-413 308,-413 308,-354 308,-354 308,-348 314,-342 320,-342 320,-342 457,-342 457,-342 463,-342 469,-348 469,-354 469,-354 469,-413 469,-413 469,-419 463,-425 457,-425\"/>\n",
       "<text text-anchor=\"start\" x=\"316\" y=\"-409.8\" font-family=\"Helvetica,sans-Serif\" font-size=\"14.00\" fill=\"#000000\">petal length (cm) ≤ 5.05</text>\n",
       "<text text-anchor=\"start\" x=\"339.5\" y=\"-394.8\" font-family=\"Helvetica,sans-Serif\" font-size=\"14.00\" fill=\"#000000\">entropy = 0.371</text>\n",
       "<text text-anchor=\"start\" x=\"344.5\" y=\"-379.8\" font-family=\"Helvetica,sans-Serif\" font-size=\"14.00\" fill=\"#000000\">samples = 462</text>\n",
       "<text text-anchor=\"start\" x=\"330.5\" y=\"-364.8\" font-family=\"Helvetica,sans-Serif\" font-size=\"14.00\" fill=\"#000000\">value = [0, 33, 429]</text>\n",
       "<text text-anchor=\"start\" x=\"339.5\" y=\"-349.8\" font-family=\"Helvetica,sans-Serif\" font-size=\"14.00\" fill=\"#000000\">class = virginica</text>\n",
       "</g>\n",
       "<!-- 0&#45;&gt;6 -->\n",
       "<g id=\"edge6\" class=\"edge\">\n",
       "<title>0&#45;&gt;6</title>\n",
       "<path fill=\"none\" stroke=\"#000000\" d=\"M331.2781,-460.8796C337.8051,-452.0534 344.7599,-442.6485 351.4908,-433.5466\"/>\n",
       "<polygon fill=\"#000000\" stroke=\"#000000\" points=\"354.4588,-435.4195 357.5905,-425.2981 348.8305,-431.2574 354.4588,-435.4195\"/>\n",
       "<text text-anchor=\"middle\" x=\"361.2932\" y=\"-446.3224\" font-family=\"Helvetica,sans-Serif\" font-size=\"14.00\" fill=\"#000000\">False</text>\n",
       "</g>\n",
       "<!-- 2 -->\n",
       "<g id=\"node3\" class=\"node\">\n",
       "<title>2</title>\n",
       "<path fill=\"#e58139\" stroke=\"#000000\" d=\"M105,-298.5C105,-298.5 12,-298.5 12,-298.5 6,-298.5 0,-292.5 0,-286.5 0,-286.5 0,-242.5 0,-242.5 0,-236.5 6,-230.5 12,-230.5 12,-230.5 105,-230.5 105,-230.5 111,-230.5 117,-236.5 117,-242.5 117,-242.5 117,-286.5 117,-286.5 117,-292.5 111,-298.5 105,-298.5\"/>\n",
       "<text text-anchor=\"start\" x=\"17\" y=\"-283.3\" font-family=\"Helvetica,sans-Serif\" font-size=\"14.00\" fill=\"#000000\">entropy = 0.0</text>\n",
       "<text text-anchor=\"start\" x=\"18\" y=\"-268.3\" font-family=\"Helvetica,sans-Serif\" font-size=\"14.00\" fill=\"#000000\">samples = 34</text>\n",
       "<text text-anchor=\"start\" x=\"8\" y=\"-253.3\" font-family=\"Helvetica,sans-Serif\" font-size=\"14.00\" fill=\"#000000\">value = [34, 0, 0]</text>\n",
       "<text text-anchor=\"start\" x=\"14.5\" y=\"-238.3\" font-family=\"Helvetica,sans-Serif\" font-size=\"14.00\" fill=\"#000000\">class = setosa</text>\n",
       "</g>\n",
       "<!-- 1&#45;&gt;2 -->\n",
       "<g id=\"edge2\" class=\"edge\">\n",
       "<title>1&#45;&gt;2</title>\n",
       "<path fill=\"none\" stroke=\"#000000\" d=\"M159.2885,-341.8796C143.6769,-329.8938 126.6753,-316.841 111.1592,-304.9287\"/>\n",
       "<polygon fill=\"#000000\" stroke=\"#000000\" points=\"113.2593,-302.1285 103.1959,-298.8149 108.9965,-307.6808 113.2593,-302.1285\"/>\n",
       "</g>\n",
       "<!-- 3 -->\n",
       "<g id=\"node4\" class=\"node\">\n",
       "<title>3</title>\n",
       "<path fill=\"#3fe685\" stroke=\"#000000\" d=\"M279.5,-306C279.5,-306 147.5,-306 147.5,-306 141.5,-306 135.5,-300 135.5,-294 135.5,-294 135.5,-235 135.5,-235 135.5,-229 141.5,-223 147.5,-223 147.5,-223 279.5,-223 279.5,-223 285.5,-223 291.5,-229 291.5,-235 291.5,-235 291.5,-294 291.5,-294 291.5,-300 285.5,-306 279.5,-306\"/>\n",
       "<text text-anchor=\"start\" x=\"143.5\" y=\"-290.8\" font-family=\"Helvetica,sans-Serif\" font-size=\"14.00\" fill=\"#000000\">petal width (cm) ≤ 1.65</text>\n",
       "<text text-anchor=\"start\" x=\"164.5\" y=\"-275.8\" font-family=\"Helvetica,sans-Serif\" font-size=\"14.00\" fill=\"#000000\">entropy = 0.183</text>\n",
       "<text text-anchor=\"start\" x=\"169.5\" y=\"-260.8\" font-family=\"Helvetica,sans-Serif\" font-size=\"14.00\" fill=\"#000000\">samples = 396</text>\n",
       "<text text-anchor=\"start\" x=\"155.5\" y=\"-245.8\" font-family=\"Helvetica,sans-Serif\" font-size=\"14.00\" fill=\"#000000\">value = [0, 385, 11]</text>\n",
       "<text text-anchor=\"start\" x=\"159.5\" y=\"-230.8\" font-family=\"Helvetica,sans-Serif\" font-size=\"14.00\" fill=\"#000000\">class = versicolor</text>\n",
       "</g>\n",
       "<!-- 1&#45;&gt;3 -->\n",
       "<g id=\"edge3\" class=\"edge\">\n",
       "<title>1&#45;&gt;3</title>\n",
       "<path fill=\"none\" stroke=\"#000000\" d=\"M213.5,-341.8796C213.5,-333.6838 213.5,-324.9891 213.5,-316.5013\"/>\n",
       "<polygon fill=\"#000000\" stroke=\"#000000\" points=\"217.0001,-316.298 213.5,-306.2981 210.0001,-316.2981 217.0001,-316.298\"/>\n",
       "</g>\n",
       "<!-- 4 -->\n",
       "<g id=\"node5\" class=\"node\">\n",
       "<title>4</title>\n",
       "<path fill=\"#39e581\" stroke=\"#000000\" d=\"M131,-179.5C131,-179.5 30,-179.5 30,-179.5 24,-179.5 18,-173.5 18,-167.5 18,-167.5 18,-123.5 18,-123.5 18,-117.5 24,-111.5 30,-111.5 30,-111.5 131,-111.5 131,-111.5 137,-111.5 143,-117.5 143,-123.5 143,-123.5 143,-167.5 143,-167.5 143,-173.5 137,-179.5 131,-179.5\"/>\n",
       "<text text-anchor=\"start\" x=\"39\" y=\"-164.3\" font-family=\"Helvetica,sans-Serif\" font-size=\"14.00\" fill=\"#000000\">entropy = 0.0</text>\n",
       "<text text-anchor=\"start\" x=\"36.5\" y=\"-149.3\" font-family=\"Helvetica,sans-Serif\" font-size=\"14.00\" fill=\"#000000\">samples = 385</text>\n",
       "<text text-anchor=\"start\" x=\"26\" y=\"-134.3\" font-family=\"Helvetica,sans-Serif\" font-size=\"14.00\" fill=\"#000000\">value = [0, 385, 0]</text>\n",
       "<text text-anchor=\"start\" x=\"26.5\" y=\"-119.3\" font-family=\"Helvetica,sans-Serif\" font-size=\"14.00\" fill=\"#000000\">class = versicolor</text>\n",
       "</g>\n",
       "<!-- 3&#45;&gt;4 -->\n",
       "<g id=\"edge4\" class=\"edge\">\n",
       "<title>3&#45;&gt;4</title>\n",
       "<path fill=\"none\" stroke=\"#000000\" d=\"M166.9831,-222.8796C153.833,-211.1138 139.5337,-198.3197 126.4191,-186.5855\"/>\n",
       "<polygon fill=\"#000000\" stroke=\"#000000\" points=\"128.6382,-183.8746 118.852,-179.8149 123.9706,-189.0913 128.6382,-183.8746\"/>\n",
       "</g>\n",
       "<!-- 5 -->\n",
       "<g id=\"node6\" class=\"node\">\n",
       "<title>5</title>\n",
       "<path fill=\"#8139e5\" stroke=\"#000000\" d=\"M266,-179.5C266,-179.5 173,-179.5 173,-179.5 167,-179.5 161,-173.5 161,-167.5 161,-167.5 161,-123.5 161,-123.5 161,-117.5 167,-111.5 173,-111.5 173,-111.5 266,-111.5 266,-111.5 272,-111.5 278,-117.5 278,-123.5 278,-123.5 278,-167.5 278,-167.5 278,-173.5 272,-179.5 266,-179.5\"/>\n",
       "<text text-anchor=\"start\" x=\"178\" y=\"-164.3\" font-family=\"Helvetica,sans-Serif\" font-size=\"14.00\" fill=\"#000000\">entropy = 0.0</text>\n",
       "<text text-anchor=\"start\" x=\"179\" y=\"-149.3\" font-family=\"Helvetica,sans-Serif\" font-size=\"14.00\" fill=\"#000000\">samples = 11</text>\n",
       "<text text-anchor=\"start\" x=\"169\" y=\"-134.3\" font-family=\"Helvetica,sans-Serif\" font-size=\"14.00\" fill=\"#000000\">value = [0, 0, 11]</text>\n",
       "<text text-anchor=\"start\" x=\"170.5\" y=\"-119.3\" font-family=\"Helvetica,sans-Serif\" font-size=\"14.00\" fill=\"#000000\">class = virginica</text>\n",
       "</g>\n",
       "<!-- 3&#45;&gt;5 -->\n",
       "<g id=\"edge5\" class=\"edge\">\n",
       "<title>3&#45;&gt;5</title>\n",
       "<path fill=\"none\" stroke=\"#000000\" d=\"M215.5985,-222.8796C216.1363,-212.2134 216.7167,-200.7021 217.2613,-189.9015\"/>\n",
       "<polygon fill=\"#000000\" stroke=\"#000000\" points=\"220.7617,-189.9785 217.7698,-179.8149 213.7706,-189.626 220.7617,-189.9785\"/>\n",
       "</g>\n",
       "<!-- 7 -->\n",
       "<g id=\"node8\" class=\"node\">\n",
       "<title>7</title>\n",
       "<path fill=\"#c09cf2\" stroke=\"#000000\" d=\"M454,-306C454,-306 323,-306 323,-306 317,-306 311,-300 311,-294 311,-294 311,-235 311,-235 311,-229 317,-223 323,-223 323,-223 454,-223 454,-223 460,-223 466,-229 466,-235 466,-235 466,-294 466,-294 466,-300 460,-306 454,-306\"/>\n",
       "<text text-anchor=\"start\" x=\"319\" y=\"-290.8\" font-family=\"Helvetica,sans-Serif\" font-size=\"14.00\" fill=\"#000000\">sepal length (cm) ≤ 6.5</text>\n",
       "<text text-anchor=\"start\" x=\"339.5\" y=\"-275.8\" font-family=\"Helvetica,sans-Serif\" font-size=\"14.00\" fill=\"#000000\">entropy = 0.918</text>\n",
       "<text text-anchor=\"start\" x=\"348\" y=\"-260.8\" font-family=\"Helvetica,sans-Serif\" font-size=\"14.00\" fill=\"#000000\">samples = 99</text>\n",
       "<text text-anchor=\"start\" x=\"334\" y=\"-245.8\" font-family=\"Helvetica,sans-Serif\" font-size=\"14.00\" fill=\"#000000\">value = [0, 33, 66]</text>\n",
       "<text text-anchor=\"start\" x=\"339.5\" y=\"-230.8\" font-family=\"Helvetica,sans-Serif\" font-size=\"14.00\" fill=\"#000000\">class = virginica</text>\n",
       "</g>\n",
       "<!-- 6&#45;&gt;7 -->\n",
       "<g id=\"edge7\" class=\"edge\">\n",
       "<title>6&#45;&gt;7</title>\n",
       "<path fill=\"none\" stroke=\"#000000\" d=\"M388.5,-341.8796C388.5,-333.6838 388.5,-324.9891 388.5,-316.5013\"/>\n",
       "<polygon fill=\"#000000\" stroke=\"#000000\" points=\"392.0001,-316.298 388.5,-306.2981 385.0001,-316.2981 392.0001,-316.298\"/>\n",
       "</g>\n",
       "<!-- 12 -->\n",
       "<g id=\"node13\" class=\"node\">\n",
       "<title>12</title>\n",
       "<path fill=\"#8139e5\" stroke=\"#000000\" d=\"M597,-298.5C597,-298.5 496,-298.5 496,-298.5 490,-298.5 484,-292.5 484,-286.5 484,-286.5 484,-242.5 484,-242.5 484,-236.5 490,-230.5 496,-230.5 496,-230.5 597,-230.5 597,-230.5 603,-230.5 609,-236.5 609,-242.5 609,-242.5 609,-286.5 609,-286.5 609,-292.5 603,-298.5 597,-298.5\"/>\n",
       "<text text-anchor=\"start\" x=\"505\" y=\"-283.3\" font-family=\"Helvetica,sans-Serif\" font-size=\"14.00\" fill=\"#000000\">entropy = 0.0</text>\n",
       "<text text-anchor=\"start\" x=\"502.5\" y=\"-268.3\" font-family=\"Helvetica,sans-Serif\" font-size=\"14.00\" fill=\"#000000\">samples = 363</text>\n",
       "<text text-anchor=\"start\" x=\"492\" y=\"-253.3\" font-family=\"Helvetica,sans-Serif\" font-size=\"14.00\" fill=\"#000000\">value = [0, 0, 363]</text>\n",
       "<text text-anchor=\"start\" x=\"497.5\" y=\"-238.3\" font-family=\"Helvetica,sans-Serif\" font-size=\"14.00\" fill=\"#000000\">class = virginica</text>\n",
       "</g>\n",
       "<!-- 6&#45;&gt;12 -->\n",
       "<g id=\"edge12\" class=\"edge\">\n",
       "<title>6&#45;&gt;12</title>\n",
       "<path fill=\"none\" stroke=\"#000000\" d=\"M443.7607,-341.8796C459.7503,-329.8368 477.1703,-316.7167 493.0474,-304.7586\"/>\n",
       "<polygon fill=\"#000000\" stroke=\"#000000\" points=\"495.3116,-307.435 501.1938,-298.623 491.1002,-301.8435 495.3116,-307.435\"/>\n",
       "</g>\n",
       "<!-- 8 -->\n",
       "<g id=\"node9\" class=\"node\">\n",
       "<title>8</title>\n",
       "<path fill=\"#965ae9\" stroke=\"#000000\" d=\"M446,-187C446,-187 319,-187 319,-187 313,-187 307,-181 307,-175 307,-175 307,-116 307,-116 307,-110 313,-104 319,-104 319,-104 446,-104 446,-104 452,-104 458,-110 458,-116 458,-116 458,-175 458,-175 458,-181 452,-187 446,-187\"/>\n",
       "<text text-anchor=\"start\" x=\"315\" y=\"-171.8\" font-family=\"Helvetica,sans-Serif\" font-size=\"14.00\" fill=\"#000000\">sepal width (cm) ≤ 3.1</text>\n",
       "<text text-anchor=\"start\" x=\"333.5\" y=\"-156.8\" font-family=\"Helvetica,sans-Serif\" font-size=\"14.00\" fill=\"#000000\">entropy = 0.592</text>\n",
       "<text text-anchor=\"start\" x=\"342\" y=\"-141.8\" font-family=\"Helvetica,sans-Serif\" font-size=\"14.00\" fill=\"#000000\">samples = 77</text>\n",
       "<text text-anchor=\"start\" x=\"328\" y=\"-126.8\" font-family=\"Helvetica,sans-Serif\" font-size=\"14.00\" fill=\"#000000\">value = [0, 11, 66]</text>\n",
       "<text text-anchor=\"start\" x=\"333.5\" y=\"-111.8\" font-family=\"Helvetica,sans-Serif\" font-size=\"14.00\" fill=\"#000000\">class = virginica</text>\n",
       "</g>\n",
       "<!-- 7&#45;&gt;8 -->\n",
       "<g id=\"edge8\" class=\"edge\">\n",
       "<title>7&#45;&gt;8</title>\n",
       "<path fill=\"none\" stroke=\"#000000\" d=\"M386.4015,-222.8796C385.9883,-214.6838 385.5499,-205.9891 385.1219,-197.5013\"/>\n",
       "<polygon fill=\"#000000\" stroke=\"#000000\" points=\"388.6067,-197.1091 384.6075,-187.2981 381.6156,-197.4617 388.6067,-197.1091\"/>\n",
       "</g>\n",
       "<!-- 11 -->\n",
       "<g id=\"node12\" class=\"node\">\n",
       "<title>11</title>\n",
       "<path fill=\"#39e581\" stroke=\"#000000\" d=\"M588.5,-179.5C588.5,-179.5 488.5,-179.5 488.5,-179.5 482.5,-179.5 476.5,-173.5 476.5,-167.5 476.5,-167.5 476.5,-123.5 476.5,-123.5 476.5,-117.5 482.5,-111.5 488.5,-111.5 488.5,-111.5 588.5,-111.5 588.5,-111.5 594.5,-111.5 600.5,-117.5 600.5,-123.5 600.5,-123.5 600.5,-167.5 600.5,-167.5 600.5,-173.5 594.5,-179.5 588.5,-179.5\"/>\n",
       "<text text-anchor=\"start\" x=\"497\" y=\"-164.3\" font-family=\"Helvetica,sans-Serif\" font-size=\"14.00\" fill=\"#000000\">entropy = 0.0</text>\n",
       "<text text-anchor=\"start\" x=\"498\" y=\"-149.3\" font-family=\"Helvetica,sans-Serif\" font-size=\"14.00\" fill=\"#000000\">samples = 22</text>\n",
       "<text text-anchor=\"start\" x=\"488\" y=\"-134.3\" font-family=\"Helvetica,sans-Serif\" font-size=\"14.00\" fill=\"#000000\">value = [0, 22, 0]</text>\n",
       "<text text-anchor=\"start\" x=\"484.5\" y=\"-119.3\" font-family=\"Helvetica,sans-Serif\" font-size=\"14.00\" fill=\"#000000\">class = versicolor</text>\n",
       "</g>\n",
       "<!-- 7&#45;&gt;11 -->\n",
       "<g id=\"edge11\" class=\"edge\">\n",
       "<title>7&#45;&gt;11</title>\n",
       "<path fill=\"none\" stroke=\"#000000\" d=\"M440.9627,-222.8796C455.9322,-211.0038 472.2222,-198.0804 487.1259,-186.2568\"/>\n",
       "<polygon fill=\"#000000\" stroke=\"#000000\" points=\"489.587,-188.772 495.2459,-179.8149 485.2365,-183.2881 489.587,-188.772\"/>\n",
       "</g>\n",
       "<!-- 9 -->\n",
       "<g id=\"node10\" class=\"node\">\n",
       "<title>9</title>\n",
       "<path fill=\"#8139e5\" stroke=\"#000000\" d=\"M359,-68C359,-68 266,-68 266,-68 260,-68 254,-62 254,-56 254,-56 254,-12 254,-12 254,-6 260,0 266,0 266,0 359,0 359,0 365,0 371,-6 371,-12 371,-12 371,-56 371,-56 371,-62 365,-68 359,-68\"/>\n",
       "<text text-anchor=\"start\" x=\"271\" y=\"-52.8\" font-family=\"Helvetica,sans-Serif\" font-size=\"14.00\" fill=\"#000000\">entropy = 0.0</text>\n",
       "<text text-anchor=\"start\" x=\"272\" y=\"-37.8\" font-family=\"Helvetica,sans-Serif\" font-size=\"14.00\" fill=\"#000000\">samples = 66</text>\n",
       "<text text-anchor=\"start\" x=\"262\" y=\"-22.8\" font-family=\"Helvetica,sans-Serif\" font-size=\"14.00\" fill=\"#000000\">value = [0, 0, 66]</text>\n",
       "<text text-anchor=\"start\" x=\"263.5\" y=\"-7.8\" font-family=\"Helvetica,sans-Serif\" font-size=\"14.00\" fill=\"#000000\">class = virginica</text>\n",
       "</g>\n",
       "<!-- 8&#45;&gt;9 -->\n",
       "<g id=\"edge9\" class=\"edge\">\n",
       "<title>8&#45;&gt;9</title>\n",
       "<path fill=\"none\" stroke=\"#000000\" d=\"M356.4346,-103.9815C350.8955,-95.1585 345.0364,-85.8258 339.4645,-76.9506\"/>\n",
       "<polygon fill=\"#000000\" stroke=\"#000000\" points=\"342.2922,-74.872 334.0108,-68.2637 336.3637,-78.594 342.2922,-74.872\"/>\n",
       "</g>\n",
       "<!-- 10 -->\n",
       "<g id=\"node11\" class=\"node\">\n",
       "<title>10</title>\n",
       "<path fill=\"#39e581\" stroke=\"#000000\" d=\"M501.5,-68C501.5,-68 401.5,-68 401.5,-68 395.5,-68 389.5,-62 389.5,-56 389.5,-56 389.5,-12 389.5,-12 389.5,-6 395.5,0 401.5,0 401.5,0 501.5,0 501.5,0 507.5,0 513.5,-6 513.5,-12 513.5,-12 513.5,-56 513.5,-56 513.5,-62 507.5,-68 501.5,-68\"/>\n",
       "<text text-anchor=\"start\" x=\"410\" y=\"-52.8\" font-family=\"Helvetica,sans-Serif\" font-size=\"14.00\" fill=\"#000000\">entropy = 0.0</text>\n",
       "<text text-anchor=\"start\" x=\"411\" y=\"-37.8\" font-family=\"Helvetica,sans-Serif\" font-size=\"14.00\" fill=\"#000000\">samples = 11</text>\n",
       "<text text-anchor=\"start\" x=\"401\" y=\"-22.8\" font-family=\"Helvetica,sans-Serif\" font-size=\"14.00\" fill=\"#000000\">value = [0, 11, 0]</text>\n",
       "<text text-anchor=\"start\" x=\"397.5\" y=\"-7.8\" font-family=\"Helvetica,sans-Serif\" font-size=\"14.00\" fill=\"#000000\">class = versicolor</text>\n",
       "</g>\n",
       "<!-- 8&#45;&gt;10 -->\n",
       "<g id=\"edge10\" class=\"edge\">\n",
       "<title>8&#45;&gt;10</title>\n",
       "<path fill=\"none\" stroke=\"#000000\" d=\"M408.1931,-103.9815C413.6531,-95.1585 419.4284,-85.8258 424.9207,-76.9506\"/>\n",
       "<polygon fill=\"#000000\" stroke=\"#000000\" points=\"428.0104,-78.609 430.2965,-68.2637 422.058,-74.9254 428.0104,-78.609\"/>\n",
       "</g>\n",
       "</g>\n",
       "</svg>\n"
      ],
      "text/plain": [
       "<graphviz.files.Source at 0x7f1df5d2c790>"
      ]
     },
     "execution_count": 9,
     "metadata": {},
     "output_type": "execute_result"
    }
   ],
   "source": [
    "dot_data = tree.export_graphviz(clf, out_file=None, \n",
    "                         feature_names=iris.feature_names, \n",
    "                         class_names=iris.target_names, \n",
    "                         filled=True, rounded=True,  \n",
    "                         special_characters=True)  \n",
    "graph = graphviz.Source(dot_data)  \n",
    "graph"
   ]
  },
  {
   "cell_type": "markdown",
   "metadata": {},
   "source": [
    "## Modify class weights"
   ]
  },
  {
   "cell_type": "code",
   "execution_count": 10,
   "metadata": {},
   "outputs": [
    {
     "name": "stdout",
     "output_type": "stream",
     "text": [
      "Model trained on iris dataset. Accuracy score: 0.8947. f1 score: 0.8778\n",
      "Model trained on inflated-iris dataset. Accuracy score: 0.9474. f1 score: 0.9394\n",
      "Model trained on iris (class weighted) dataset. Accuracy score: 0.9211. f1 score: 0.9089\n"
     ]
    }
   ],
   "source": [
    "class_weights = {0:1, 1:10, 2:10}\n",
    "\n",
    "clf_weighted = tree.DecisionTreeClassifier(criterion=\"entropy\",random_state=300,min_samples_leaf=5,class_weight=class_weights)\n",
    "clf_weighted.fit(X_train,y_train)\n",
    "predictions = clf_weighted.predict(X_test)\n",
    "\n",
    "acc_score = accuracy_score(y_test, predictions)\n",
    "f1=sklearn.metrics.f1_score(y_test, predictions, average='macro')\n",
    "\n",
    "eval_metrics['iris (class weighted)']={'accuracy':acc_score,'f1-measure':f1}\n",
    "\n",
    "print_evaluations(eval_metrics)"
   ]
  },
  {
   "cell_type": "code",
   "execution_count": 11,
   "metadata": {},
   "outputs": [
    {
     "data": {
      "image/svg+xml": [
       "<?xml version=\"1.0\" encoding=\"UTF-8\" standalone=\"no\"?>\n",
       "<!DOCTYPE svg PUBLIC \"-//W3C//DTD SVG 1.1//EN\"\n",
       " \"http://www.w3.org/Graphics/SVG/1.1/DTD/svg11.dtd\">\n",
       "<!-- Generated by graphviz version 2.40.1 (20161225.0304)\n",
       " -->\n",
       "<!-- Title: Tree Pages: 1 -->\n",
       "<svg width=\"598pt\" height=\"433pt\"\n",
       " viewBox=\"0.00 0.00 598.00 433.00\" xmlns=\"http://www.w3.org/2000/svg\" xmlns:xlink=\"http://www.w3.org/1999/xlink\">\n",
       "<g id=\"graph0\" class=\"graph\" transform=\"scale(1 1) rotate(0) translate(4 429)\">\n",
       "<title>Tree</title>\n",
       "<polygon fill=\"#ffffff\" stroke=\"transparent\" points=\"-4,4 -4,-429 594,-429 594,4 -4,4\"/>\n",
       "<!-- 0 -->\n",
       "<g id=\"node1\" class=\"node\">\n",
       "<title>0</title>\n",
       "<path fill=\"#f9f6fe\" stroke=\"#000000\" d=\"M368,-425C368,-425 231,-425 231,-425 225,-425 219,-419 219,-413 219,-413 219,-354 219,-354 219,-348 225,-342 231,-342 231,-342 368,-342 368,-342 374,-342 380,-348 380,-354 380,-354 380,-413 380,-413 380,-419 374,-425 368,-425\"/>\n",
       "<text text-anchor=\"start\" x=\"227\" y=\"-409.8\" font-family=\"Helvetica,sans-Serif\" font-size=\"14.00\" fill=\"#000000\">petal length (cm) ≤ 4.75</text>\n",
       "<text text-anchor=\"start\" x=\"250.5\" y=\"-394.8\" font-family=\"Helvetica,sans-Serif\" font-size=\"14.00\" fill=\"#000000\">entropy = 1.208</text>\n",
       "<text text-anchor=\"start\" x=\"255.5\" y=\"-379.8\" font-family=\"Helvetica,sans-Serif\" font-size=\"14.00\" fill=\"#000000\">samples = 112</text>\n",
       "<text text-anchor=\"start\" x=\"234\" y=\"-364.8\" font-family=\"Helvetica,sans-Serif\" font-size=\"14.00\" fill=\"#000000\">value = [34, 380, 400]</text>\n",
       "<text text-anchor=\"start\" x=\"250.5\" y=\"-349.8\" font-family=\"Helvetica,sans-Serif\" font-size=\"14.00\" fill=\"#000000\">class = virginica</text>\n",
       "</g>\n",
       "<!-- 1 -->\n",
       "<g id=\"node2\" class=\"node\">\n",
       "<title>1</title>\n",
       "<path fill=\"#51e890\" stroke=\"#000000\" d=\"M277,-306C277,-306 148,-306 148,-306 142,-306 136,-300 136,-294 136,-294 136,-235 136,-235 136,-229 142,-223 148,-223 148,-223 277,-223 277,-223 283,-223 289,-229 289,-235 289,-235 289,-294 289,-294 289,-300 283,-306 277,-306\"/>\n",
       "<text text-anchor=\"start\" x=\"144\" y=\"-290.8\" font-family=\"Helvetica,sans-Serif\" font-size=\"14.00\" fill=\"#000000\">petal length (cm) ≤ 2.6</text>\n",
       "<text text-anchor=\"start\" x=\"163.5\" y=\"-275.8\" font-family=\"Helvetica,sans-Serif\" font-size=\"14.00\" fill=\"#000000\">entropy = 0.591</text>\n",
       "<text text-anchor=\"start\" x=\"172\" y=\"-260.8\" font-family=\"Helvetica,sans-Serif\" font-size=\"14.00\" fill=\"#000000\">samples = 70</text>\n",
       "<text text-anchor=\"start\" x=\"150.5\" y=\"-245.8\" font-family=\"Helvetica,sans-Serif\" font-size=\"14.00\" fill=\"#000000\">value = [34, 350, 10]</text>\n",
       "<text text-anchor=\"start\" x=\"158.5\" y=\"-230.8\" font-family=\"Helvetica,sans-Serif\" font-size=\"14.00\" fill=\"#000000\">class = versicolor</text>\n",
       "</g>\n",
       "<!-- 0&#45;&gt;1 -->\n",
       "<g id=\"edge1\" class=\"edge\">\n",
       "<title>0&#45;&gt;1</title>\n",
       "<path fill=\"none\" stroke=\"#000000\" d=\"M269.0716,-341.8796C262.6189,-333.0534 255.743,-323.6485 249.0887,-314.5466\"/>\n",
       "<polygon fill=\"#000000\" stroke=\"#000000\" points=\"251.7856,-312.3051 243.0583,-306.2981 246.1347,-316.4364 251.7856,-312.3051\"/>\n",
       "<text text-anchor=\"middle\" x=\"239.2208\" y=\"-327.3018\" font-family=\"Helvetica,sans-Serif\" font-size=\"14.00\" fill=\"#000000\">True</text>\n",
       "</g>\n",
       "<!-- 6 -->\n",
       "<g id=\"node7\" class=\"node\">\n",
       "<title>6</title>\n",
       "<path fill=\"#8b48e7\" stroke=\"#000000\" d=\"M456,-306C456,-306 319,-306 319,-306 313,-306 307,-300 307,-294 307,-294 307,-235 307,-235 307,-229 313,-223 319,-223 319,-223 456,-223 456,-223 462,-223 468,-229 468,-235 468,-235 468,-294 468,-294 468,-300 462,-306 456,-306\"/>\n",
       "<text text-anchor=\"start\" x=\"315\" y=\"-290.8\" font-family=\"Helvetica,sans-Serif\" font-size=\"14.00\" fill=\"#000000\">petal length (cm) ≤ 5.05</text>\n",
       "<text text-anchor=\"start\" x=\"338.5\" y=\"-275.8\" font-family=\"Helvetica,sans-Serif\" font-size=\"14.00\" fill=\"#000000\">entropy = 0.371</text>\n",
       "<text text-anchor=\"start\" x=\"347\" y=\"-260.8\" font-family=\"Helvetica,sans-Serif\" font-size=\"14.00\" fill=\"#000000\">samples = 42</text>\n",
       "<text text-anchor=\"start\" x=\"329.5\" y=\"-245.8\" font-family=\"Helvetica,sans-Serif\" font-size=\"14.00\" fill=\"#000000\">value = [0, 30, 390]</text>\n",
       "<text text-anchor=\"start\" x=\"338.5\" y=\"-230.8\" font-family=\"Helvetica,sans-Serif\" font-size=\"14.00\" fill=\"#000000\">class = virginica</text>\n",
       "</g>\n",
       "<!-- 0&#45;&gt;6 -->\n",
       "<g id=\"edge6\" class=\"edge\">\n",
       "<title>0&#45;&gt;6</title>\n",
       "<path fill=\"none\" stroke=\"#000000\" d=\"M330.2781,-341.8796C336.8051,-333.0534 343.7599,-323.6485 350.4908,-314.5466\"/>\n",
       "<polygon fill=\"#000000\" stroke=\"#000000\" points=\"353.4588,-316.4195 356.5905,-306.2981 347.8305,-312.2574 353.4588,-316.4195\"/>\n",
       "<text text-anchor=\"middle\" x=\"360.2932\" y=\"-327.3224\" font-family=\"Helvetica,sans-Serif\" font-size=\"14.00\" fill=\"#000000\">False</text>\n",
       "</g>\n",
       "<!-- 2 -->\n",
       "<g id=\"node3\" class=\"node\">\n",
       "<title>2</title>\n",
       "<path fill=\"#e58139\" stroke=\"#000000\" d=\"M105,-179.5C105,-179.5 12,-179.5 12,-179.5 6,-179.5 0,-173.5 0,-167.5 0,-167.5 0,-123.5 0,-123.5 0,-117.5 6,-111.5 12,-111.5 12,-111.5 105,-111.5 105,-111.5 111,-111.5 117,-117.5 117,-123.5 117,-123.5 117,-167.5 117,-167.5 117,-173.5 111,-179.5 105,-179.5\"/>\n",
       "<text text-anchor=\"start\" x=\"17\" y=\"-164.3\" font-family=\"Helvetica,sans-Serif\" font-size=\"14.00\" fill=\"#000000\">entropy = 0.0</text>\n",
       "<text text-anchor=\"start\" x=\"18\" y=\"-149.3\" font-family=\"Helvetica,sans-Serif\" font-size=\"14.00\" fill=\"#000000\">samples = 34</text>\n",
       "<text text-anchor=\"start\" x=\"8\" y=\"-134.3\" font-family=\"Helvetica,sans-Serif\" font-size=\"14.00\" fill=\"#000000\">value = [34, 0, 0]</text>\n",
       "<text text-anchor=\"start\" x=\"14.5\" y=\"-119.3\" font-family=\"Helvetica,sans-Serif\" font-size=\"14.00\" fill=\"#000000\">class = setosa</text>\n",
       "</g>\n",
       "<!-- 1&#45;&gt;2 -->\n",
       "<g id=\"edge2\" class=\"edge\">\n",
       "<title>1&#45;&gt;2</title>\n",
       "<path fill=\"none\" stroke=\"#000000\" d=\"M158.6383,-222.8796C143.2696,-211.0038 126.5453,-198.0804 111.2441,-186.2568\"/>\n",
       "<polygon fill=\"#000000\" stroke=\"#000000\" points=\"112.9605,-183.1599 102.9076,-179.8149 108.6804,-188.699 112.9605,-183.1599\"/>\n",
       "</g>\n",
       "<!-- 3 -->\n",
       "<g id=\"node4\" class=\"node\">\n",
       "<title>3</title>\n",
       "<path fill=\"#3fe685\" stroke=\"#000000\" d=\"M286,-187C286,-187 147,-187 147,-187 141,-187 135,-181 135,-175 135,-175 135,-116 135,-116 135,-110 141,-104 147,-104 147,-104 286,-104 286,-104 292,-104 298,-110 298,-116 298,-116 298,-175 298,-175 298,-181 292,-187 286,-187\"/>\n",
       "<text text-anchor=\"start\" x=\"143\" y=\"-171.8\" font-family=\"Helvetica,sans-Serif\" font-size=\"14.00\" fill=\"#000000\">sepal length (cm) ≤ 5.45</text>\n",
       "<text text-anchor=\"start\" x=\"167.5\" y=\"-156.8\" font-family=\"Helvetica,sans-Serif\" font-size=\"14.00\" fill=\"#000000\">entropy = 0.183</text>\n",
       "<text text-anchor=\"start\" x=\"176\" y=\"-141.8\" font-family=\"Helvetica,sans-Serif\" font-size=\"14.00\" fill=\"#000000\">samples = 36</text>\n",
       "<text text-anchor=\"start\" x=\"158.5\" y=\"-126.8\" font-family=\"Helvetica,sans-Serif\" font-size=\"14.00\" fill=\"#000000\">value = [0, 350, 10]</text>\n",
       "<text text-anchor=\"start\" x=\"162.5\" y=\"-111.8\" font-family=\"Helvetica,sans-Serif\" font-size=\"14.00\" fill=\"#000000\">class = versicolor</text>\n",
       "</g>\n",
       "<!-- 1&#45;&gt;3 -->\n",
       "<g id=\"edge3\" class=\"edge\">\n",
       "<title>1&#45;&gt;3</title>\n",
       "<path fill=\"none\" stroke=\"#000000\" d=\"M213.899,-222.8796C214.1745,-214.6838 214.4668,-205.9891 214.7521,-197.5013\"/>\n",
       "<polygon fill=\"#000000\" stroke=\"#000000\" points=\"218.257,-197.41 215.095,-187.2981 211.261,-197.1748 218.257,-197.41\"/>\n",
       "</g>\n",
       "<!-- 4 -->\n",
       "<g id=\"node5\" class=\"node\">\n",
       "<title>4</title>\n",
       "<path fill=\"#6aeca0\" stroke=\"#000000\" d=\"M195,-68C195,-68 94,-68 94,-68 88,-68 82,-62 82,-56 82,-56 82,-12 82,-12 82,-6 88,0 94,0 94,0 195,0 195,0 201,0 207,-6 207,-12 207,-12 207,-56 207,-56 207,-62 201,-68 195,-68\"/>\n",
       "<text text-anchor=\"start\" x=\"95.5\" y=\"-52.8\" font-family=\"Helvetica,sans-Serif\" font-size=\"14.00\" fill=\"#000000\">entropy = 0.722</text>\n",
       "<text text-anchor=\"start\" x=\"108\" y=\"-37.8\" font-family=\"Helvetica,sans-Serif\" font-size=\"14.00\" fill=\"#000000\">samples = 5</text>\n",
       "<text text-anchor=\"start\" x=\"90\" y=\"-22.8\" font-family=\"Helvetica,sans-Serif\" font-size=\"14.00\" fill=\"#000000\">value = [0, 40, 10]</text>\n",
       "<text text-anchor=\"start\" x=\"90.5\" y=\"-7.8\" font-family=\"Helvetica,sans-Serif\" font-size=\"14.00\" fill=\"#000000\">class = versicolor</text>\n",
       "</g>\n",
       "<!-- 3&#45;&gt;4 -->\n",
       "<g id=\"edge4\" class=\"edge\">\n",
       "<title>3&#45;&gt;4</title>\n",
       "<path fill=\"none\" stroke=\"#000000\" d=\"M189.6899,-103.9815C183.9331,-95.0666 177.8404,-85.6313 172.0559,-76.6734\"/>\n",
       "<polygon fill=\"#000000\" stroke=\"#000000\" points=\"174.9904,-74.7658 166.6254,-68.2637 169.1099,-78.5631 174.9904,-74.7658\"/>\n",
       "</g>\n",
       "<!-- 5 -->\n",
       "<g id=\"node6\" class=\"node\">\n",
       "<title>5</title>\n",
       "<path fill=\"#39e581\" stroke=\"#000000\" d=\"M338,-68C338,-68 237,-68 237,-68 231,-68 225,-62 225,-56 225,-56 225,-12 225,-12 225,-6 231,0 237,0 237,0 338,0 338,0 344,0 350,-6 350,-12 350,-12 350,-56 350,-56 350,-62 344,-68 338,-68\"/>\n",
       "<text text-anchor=\"start\" x=\"246\" y=\"-52.8\" font-family=\"Helvetica,sans-Serif\" font-size=\"14.00\" fill=\"#000000\">entropy = 0.0</text>\n",
       "<text text-anchor=\"start\" x=\"247\" y=\"-37.8\" font-family=\"Helvetica,sans-Serif\" font-size=\"14.00\" fill=\"#000000\">samples = 31</text>\n",
       "<text text-anchor=\"start\" x=\"233\" y=\"-22.8\" font-family=\"Helvetica,sans-Serif\" font-size=\"14.00\" fill=\"#000000\">value = [0, 310, 0]</text>\n",
       "<text text-anchor=\"start\" x=\"233.5\" y=\"-7.8\" font-family=\"Helvetica,sans-Serif\" font-size=\"14.00\" fill=\"#000000\">class = versicolor</text>\n",
       "</g>\n",
       "<!-- 3&#45;&gt;5 -->\n",
       "<g id=\"edge5\" class=\"edge\">\n",
       "<title>3&#45;&gt;5</title>\n",
       "<path fill=\"none\" stroke=\"#000000\" d=\"M242.9378,-103.9815C248.556,-95.1585 254.4988,-85.8258 260.1503,-76.9506\"/>\n",
       "<polygon fill=\"#000000\" stroke=\"#000000\" points=\"263.2629,-78.5787 265.6819,-68.2637 257.3584,-74.8188 263.2629,-78.5787\"/>\n",
       "</g>\n",
       "<!-- 7 -->\n",
       "<g id=\"node8\" class=\"node\">\n",
       "<title>7</title>\n",
       "<path fill=\"#c09cf2\" stroke=\"#000000\" d=\"M435,-179.5C435,-179.5 334,-179.5 334,-179.5 328,-179.5 322,-173.5 322,-167.5 322,-167.5 322,-123.5 322,-123.5 322,-117.5 328,-111.5 334,-111.5 334,-111.5 435,-111.5 435,-111.5 441,-111.5 447,-117.5 447,-123.5 447,-123.5 447,-167.5 447,-167.5 447,-173.5 441,-179.5 435,-179.5\"/>\n",
       "<text text-anchor=\"start\" x=\"335.5\" y=\"-164.3\" font-family=\"Helvetica,sans-Serif\" font-size=\"14.00\" fill=\"#000000\">entropy = 0.918</text>\n",
       "<text text-anchor=\"start\" x=\"348\" y=\"-149.3\" font-family=\"Helvetica,sans-Serif\" font-size=\"14.00\" fill=\"#000000\">samples = 9</text>\n",
       "<text text-anchor=\"start\" x=\"330\" y=\"-134.3\" font-family=\"Helvetica,sans-Serif\" font-size=\"14.00\" fill=\"#000000\">value = [0, 30, 60]</text>\n",
       "<text text-anchor=\"start\" x=\"335.5\" y=\"-119.3\" font-family=\"Helvetica,sans-Serif\" font-size=\"14.00\" fill=\"#000000\">class = virginica</text>\n",
       "</g>\n",
       "<!-- 6&#45;&gt;7 -->\n",
       "<g id=\"edge7\" class=\"edge\">\n",
       "<title>6&#45;&gt;7</title>\n",
       "<path fill=\"none\" stroke=\"#000000\" d=\"M386.4507,-222.8796C386.1818,-212.2134 385.8916,-200.7021 385.6194,-189.9015\"/>\n",
       "<polygon fill=\"#000000\" stroke=\"#000000\" points=\"389.1161,-189.7235 385.3651,-179.8149 382.1183,-189.9 389.1161,-189.7235\"/>\n",
       "</g>\n",
       "<!-- 8 -->\n",
       "<g id=\"node9\" class=\"node\">\n",
       "<title>8</title>\n",
       "<path fill=\"#8139e5\" stroke=\"#000000\" d=\"M578,-179.5C578,-179.5 477,-179.5 477,-179.5 471,-179.5 465,-173.5 465,-167.5 465,-167.5 465,-123.5 465,-123.5 465,-117.5 471,-111.5 477,-111.5 477,-111.5 578,-111.5 578,-111.5 584,-111.5 590,-117.5 590,-123.5 590,-123.5 590,-167.5 590,-167.5 590,-173.5 584,-179.5 578,-179.5\"/>\n",
       "<text text-anchor=\"start\" x=\"486\" y=\"-164.3\" font-family=\"Helvetica,sans-Serif\" font-size=\"14.00\" fill=\"#000000\">entropy = 0.0</text>\n",
       "<text text-anchor=\"start\" x=\"487\" y=\"-149.3\" font-family=\"Helvetica,sans-Serif\" font-size=\"14.00\" fill=\"#000000\">samples = 33</text>\n",
       "<text text-anchor=\"start\" x=\"473\" y=\"-134.3\" font-family=\"Helvetica,sans-Serif\" font-size=\"14.00\" fill=\"#000000\">value = [0, 0, 330]</text>\n",
       "<text text-anchor=\"start\" x=\"478.5\" y=\"-119.3\" font-family=\"Helvetica,sans-Serif\" font-size=\"14.00\" fill=\"#000000\">class = virginica</text>\n",
       "</g>\n",
       "<!-- 6&#45;&gt;8 -->\n",
       "<g id=\"edge8\" class=\"edge\">\n",
       "<title>6&#45;&gt;8</title>\n",
       "<path fill=\"none\" stroke=\"#000000\" d=\"M436.4652,-222.8796C450.3073,-211.1138 465.3592,-198.3197 479.1641,-186.5855\"/>\n",
       "<polygon fill=\"#000000\" stroke=\"#000000\" points=\"481.7769,-188.9582 487.1295,-179.8149 477.2433,-183.6247 481.7769,-188.9582\"/>\n",
       "</g>\n",
       "</g>\n",
       "</svg>\n"
      ],
      "text/plain": [
       "<graphviz.files.Source at 0x7f1df5cf4f10>"
      ]
     },
     "execution_count": 11,
     "metadata": {},
     "output_type": "execute_result"
    }
   ],
   "source": [
    "dot_data = tree.export_graphviz(clf_weighted, out_file=None, \n",
    "                         feature_names=iris.feature_names, \n",
    "                         class_names=iris.target_names, \n",
    "                         filled=True, rounded=True,  \n",
    "                         special_characters=True)  \n",
    "graph = graphviz.Source(dot_data)  \n",
    "graph"
   ]
  },
  {
   "cell_type": "markdown",
   "metadata": {},
   "source": [
    "## Hyperparameters Optimization"
   ]
  },
  {
   "cell_type": "markdown",
   "metadata": {},
   "source": [
    "To find the best combination of hyperparameter we apply an *exhaustive search* over the *parameter space*."
   ]
  },
  {
   "cell_type": "code",
   "execution_count": 12,
   "metadata": {},
   "outputs": [],
   "source": [
    "params = {'max_depth':np.arange(2,20,2),\n",
    "          'min_samples_split':np.arange(2,10,2),\n",
    "          'min_samples_leaf':np.arange(1,10),\n",
    "          'max_leaf_nodes':np.arange(1,15,2),\n",
    "          'min_impurity_decrease':np.linspace(0,1,11)}\n",
    "                                     \n",
    "clf = sklearn.model_selection.GridSearchCV(sklearn.tree.DecisionTreeClassifier(),params,\n",
    "                                           scoring=['accuracy'],n_jobs=4,\n",
    "                                           refit='accuracy',cv=4)\n",
    "clf.fit(X_train,y_train);"
   ]
  },
  {
   "cell_type": "code",
   "execution_count": 13,
   "metadata": {},
   "outputs": [
    {
     "name": "stdout",
     "output_type": "stream",
     "text": [
      "Model trained on iris dataset. Accuracy score: 0.8947. f1 score: 0.8778\n",
      "Model trained on inflated-iris dataset. Accuracy score: 0.9474. f1 score: 0.9394\n",
      "Model trained on iris (class weighted) dataset. Accuracy score: 0.9211. f1 score: 0.9089\n",
      "Model trained on iris (hyperparams optimization) dataset. Accuracy score: 0.9211. f1 score: 0.9089\n"
     ]
    }
   ],
   "source": [
    "best_clf = clf.best_estimator_\n",
    "predictions = best_clf.predict(X_test)\n",
    "\n",
    "acc_score = accuracy_score(y_test, predictions)\n",
    "f1=sklearn.metrics.f1_score(y_test, predictions, average='macro')\n",
    "\n",
    "eval_metrics['iris (hyperparams optimization)']={'accuracy':acc_score,'f1-measure':f1}\n",
    "print_evaluations(eval_metrics)"
   ]
  },
  {
   "cell_type": "markdown",
   "metadata": {},
   "source": [
    "## Confusion Matrix"
   ]
  },
  {
   "cell_type": "code",
   "execution_count": 14,
   "metadata": {},
   "outputs": [
    {
     "data": {
      "text/plain": [
       "Text(0.5, 1.0, 'Decision tree with optimized params')"
      ]
     },
     "execution_count": 14,
     "metadata": {},
     "output_type": "execute_result"
    },
    {
     "data": {
      "image/png": "[encoded data removed]",
      "text/plain": [
       "<Figure size 1008x360 with 4 Axes>"
      ]
     },
     "metadata": {
      "needs_background": "light"
     },
     "output_type": "display_data"
    }
   ],
   "source": [
    "fig, axes = plt.subplots(1,2,figsize=(14,5))\n",
    "\n",
    "sklearn.metrics.plot_confusion_matrix(best_clf,X_test,y_test,display_labels=['Setosa','Versicolor','Virginica'],ax=axes[1])\n",
    "sklearn.metrics.plot_confusion_matrix(clf,X_test,y_test,display_labels=['Setosa','Versicolor','Virginica'],ax=axes[0])\n",
    "\n",
    "axes[0].set_title('Decision tree with a priori params')\n",
    "axes[1].set_title('Decision tree with optimized params')"
   ]
  },
  {
   "cell_type": "markdown",
   "metadata": {},
   "source": [
    "# Build Trees in Coverage and ROC Spaces\n",
    "Coverage and roc plot are natural suitable for *binary classifiers*. To extend to a multiclass case we apply a *one-vs-rest* scheme.\n",
    "Essentially we construct $K$ **binary** classifiers, and in turn we fit the $i$-th classifier to a traning set where instances of class $C_i$ are mapped to the *positive class* and the remaing intstances of class $C_j \\ i\\neq j$ are mapped to the *negative class*."
   ]
  },
  {
   "cell_type": "code",
   "execution_count": 15,
   "metadata": {},
   "outputs": [],
   "source": [
    "from sklearn.multiclass import OneVsRestClassifier\n",
    "\n",
    "clf = sklearn.tree.DecisionTreeClassifier(criterion=\"entropy\",random_state=300,\n",
    "                                                           min_samples_leaf=3, min_impurity_decrease=0.0,\n",
    "                                                           max_depth=3, max_leaf_nodes=4)\n",
    "ovr_clf = OneVsRestClassifier(clf)\n",
    "ovr_clf.fit(X_train,y_train);"
   ]
  },
  {
   "cell_type": "markdown",
   "metadata": {},
   "source": [
    "We can access to the binary classfiers of OneVSRest, so we visualize the decision tree associated."
   ]
  },
  {
   "cell_type": "code",
   "execution_count": 16,
   "metadata": {},
   "outputs": [
    {
     "name": "stdout",
     "output_type": "stream",
     "text": [
      "setosa\n",
      "versicolor\n",
      "virginica\n"
     ]
    }
   ],
   "source": [
    "for i, treez in enumerate(ovr_clf.estimators_):\n",
    "    class_name = iris.target_names[i]\n",
    "    print(class_name)\n",
    "    graph = graphviz.Source( tree.export_graphviz(treez,out_file=None,filled=True, feature_names=iris.feature_names, class_names=iris.target_names) ) \n",
    "    graph.render(\"Tree {}\".format(iris.target_names[i]))\n",
    "    graph.view()"
   ]
  },
  {
   "cell_type": "markdown",
   "metadata": {},
   "source": [
    "To build the coverage and roc curves, we follow the pseudo algorithm written in [Peter Flach's book](https://www.cambridge.org/core/books/machine-learning/621D3E616DF879E494B094CC93ED36A4):\n",
    "* Access the \"local probability distribution\" contained in the decision tree' leves. (computed by `get_leaves` function)\n",
    "* Compute the *empirical probability of the positive class* with *laplace smoothing*\n",
    "$$\n",
    "\\dot{p}=\\frac{n^+ +1}{n^+ + n^- +2}\n",
    "$$\n",
    "* Rank the leaves in **decreasing** order by empirical probability\n",
    "* Each point $(x,y)$ in the coverage space is given by the **ranked leaves** cumulative TP and FP:\n",
    "$$ (x,y) = (TP,FP) $$ instead for the roc curve: \n",
    "$$(x,y) = (\\frac{TP}{POS},\\frac{FP}{NEG})$$ \n",
    "The last 3 points are computed by `get_coverage_curve` and `get_roc_curve` functions."
   ]
  },
  {
   "cell_type": "code",
   "execution_count": 17,
   "metadata": {},
   "outputs": [],
   "source": [
    "def get_leaves(tree):\n",
    "    \"\"\"\n",
    "    return mask of leaves indeces (eg. [True,False,True] means that first and last nodes in the tree are leaves)\n",
    "    and leaves values -> a 2d array of [[a,b],[c,d]] where a,c are negative class instances in the respective nodes, b,d positive ones.\n",
    "    \"\"\"\n",
    "    n_nodes = tree.tree_.node_count\n",
    "    children_left = tree.tree_.children_left\n",
    "    children_right = tree.tree_.children_right\n",
    "\n",
    "    node_depth = np.zeros(shape=n_nodes, dtype=np.int64)\n",
    "    is_leaves = np.zeros(shape=n_nodes, dtype=np.bool)\n",
    "   \n",
    "    stack = [(0, -1)]  # seed is the root node id and its parent depth\n",
    "    while len(stack) > 0:\n",
    "        node_id, parent_depth = stack.pop()\n",
    "        node_depth[node_id] = parent_depth + 1\n",
    "\n",
    "        # If we have a test node\n",
    "        if (children_left[node_id] != children_right[node_id]):\n",
    "            stack.append((children_left[node_id], parent_depth + 1))\n",
    "            stack.append((children_right[node_id], parent_depth + 1))\n",
    "        else:\n",
    "            is_leaves[node_id] = True\n",
    "    \n",
    "    return is_leaves, np.squeeze(tree.tree_.value[is_leaves],axis=1)\n",
    "\n",
    "def get_coverage_curve(estimator):\n",
    "\n",
    "    _, leaves = get_leaves(estimator) #get leaves\n",
    "\n",
    "    empirical_proba = (leaves[:,1] +1)/ (np.sum(leaves,axis=1) +2) # compute empirical probabilities (positive class instances / total instances)\n",
    "\n",
    "    ind = np.argsort(empirical_proba)[::-1] # return the indices that makes empirical_proba sorted in descending order\n",
    "    \n",
    "    coverage_points = np.cumsum(leaves[ind],axis=0) # get the actual point in coverage space\n",
    "    coverage_points = np.row_stack(([0,0],coverage_points)) ## add a \"dummy\" origin point\n",
    "    \n",
    "    return coverage_points\n",
    "\n",
    "\n",
    "\n",
    "def get_roc_curve(estimator):\n",
    "\n",
    "    _, leaves = get_leaves(estimator) #get leaves\n",
    "\n",
    "    empirical_proba = (leaves[:,1] +1)/ (np.sum(leaves,axis=1) +2) # compute empirical probabilities (positive class instances / total instances)\n",
    "\n",
    "    ind = np.argsort(empirical_proba)[::-1] # return the indices that makes empirical_proba sorted in descending order\n",
    "    \n",
    "    coverage_points = np.cumsum(leaves[ind],axis=0) # get the actual point in coverage space\n",
    "    coverage_points = np.row_stack(([0,0],coverage_points)) # add a \"dummy\" origin point\n",
    "    \n",
    "    roc_points = coverage_points / np.sum(leaves,axis=0) # normalize (TP/POS and FP /NEG)\n",
    "    \n",
    "    return roc_points"
   ]
  },
  {
   "cell_type": "markdown",
   "metadata": {},
   "source": [
    "### Coverage Space"
   ]
  },
  {
   "cell_type": "code",
   "execution_count": 18,
   "metadata": {},
   "outputs": [
    {
     "data": {
      "image/png": "[encoded data removed]",
      "text/plain": [
       "<Figure size 720x576 with 4 Axes>"
      ]
     },
     "metadata": {
      "needs_background": "light"
     },
     "output_type": "display_data"
    }
   ],
   "source": [
    "fig= plt.figure(figsize=(10,8),constrained_layout=True)\n",
    "\n",
    "gs=fig.add_gridspec(3,3)\n",
    "main_ax=fig.add_subplot(gs[:2,0:2])\n",
    "setosa_ax = fig.add_subplot(gs[0,2])\n",
    "versicolor_ax = fig.add_subplot(gs[1,2])\n",
    "virginica_ax = fig.add_subplot(gs[2,2])\n",
    "\n",
    "axes=[setosa_ax,versicolor_ax,virginica_ax]\n",
    "\n",
    "for treeclf,ax,class_name,color in zip(ovr_clf.estimators_,axes,iris.target_names,target_colors):\n",
    "    points = get_coverage_curve(treeclf)\n",
    "   \n",
    "    ax.plot(points[:,0], points[:,1], marker='o', markersize=4, linewidth=2, c=color)\n",
    "    ax.set_xlabel('False Positive')\n",
    "    ax.set_ylabel('True Positive')\n",
    "    ax.set_title('Coverage Plot ({})'.format(class_name))\n",
    "    ax.grid(True,alpha=0.4)\n",
    "    \n",
    "    main_ax.plot(points[:,0], points[:,1],  marker='o', markersize=4, linewidth=1.25, c=color,label=class_name)\n",
    "    \n",
    "main_ax.set_xlabel('False Positive')\n",
    "main_ax.set_ylabel('True Positive')\n",
    "main_ax.set_title('Multiclass Coverage Plot')\n",
    "main_ax.grid(True,alpha=0.4)\n",
    "main_ax.legend();"
   ]
  },
  {
   "cell_type": "markdown",
   "metadata": {},
   "source": [
    "### ROC Space"
   ]
  },
  {
   "cell_type": "code",
   "execution_count": 19,
   "metadata": {},
   "outputs": [
    {
     "data": {
      "image/png": "[encoded data removed]",
      "text/plain": [
       "<Figure size 720x576 with 4 Axes>"
      ]
     },
     "metadata": {
      "needs_background": "light"
     },
     "output_type": "display_data"
    }
   ],
   "source": [
    "fig= plt.figure(figsize=(10,8),constrained_layout=True)\n",
    "\n",
    "gs=fig.add_gridspec(3,3)\n",
    "main_ax=fig.add_subplot(gs[:2,0:2])\n",
    "setosa_ax = fig.add_subplot(gs[0,2])\n",
    "versicolor_ax = fig.add_subplot(gs[1,2])\n",
    "virginica_ax = fig.add_subplot(gs[2,2])\n",
    "\n",
    "\n",
    "axes=[setosa_ax,versicolor_ax,virginica_ax]\n",
    "\n",
    "for treeclf,ax,class_name,color in zip(ovr_clf.estimators_,axes,iris.target_names,target_colors):\n",
    "    points = get_roc_curve(treeclf)\n",
    "   \n",
    "    ax.plot(points[:,0], points[:,1], marker='o', markersize=4, linewidth=1.25, c=color)\n",
    "    ax.set_xlabel('FPR')\n",
    "    ax.set_ylabel('TPR')\n",
    "    ax.set_title('ROC Plot ({})'.format(class_name))\n",
    "    ax.grid(True,alpha=0.4)\n",
    "    \n",
    "    main_ax.plot(points[:,0], points[:,1],  marker='o', markersize=4, linewidth=1.25, c=color,label=class_name)\n",
    "    \n",
    "main_ax.set_xlabel('FPR')\n",
    "main_ax.set_ylabel('TPR')\n",
    "main_ax.set_title('Multiclass ROC Plot')\n",
    "main_ax.grid(True,alpha=0.4)\n",
    "main_ax.legend();"
   ]
  }
 ],
 "metadata": {
  "anaconda-cloud": {},
  "kernelspec": {
   "display_name": "Python 3",
   "language": "python",
   "name": "python3"
  },
  "language_info": {
   "codemirror_mode": {
    "name": "ipython",
    "version": 3
   },
   "file_extension": ".py",
   "mimetype": "text/x-python",
   "name": "python",
   "nbconvert_exporter": "python",
   "pygments_lexer": "ipython3",
   "version": "3.8.2"
  }
 },
 "nbformat": 4,
 "nbformat_minor": 4
}

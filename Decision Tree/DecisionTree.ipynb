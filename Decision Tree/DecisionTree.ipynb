{
 "cells": [
  {
   "cell_type": "markdown",
   "metadata": {},
   "source": [
    "# Classifiers introduction\n",
    "\n",
    "In the following program we introduce the basic steps of classification of a dataset in a matrix"
   ]
  },
  {
   "cell_type": "markdown",
   "metadata": {},
   "source": [
    "Import the package for learning and modeling trees"
   ]
  },
  {
   "cell_type": "code",
   "execution_count": 1,
   "metadata": {
    "collapsed": false,
    "jupyter": {
     "outputs_hidden": false
    },
    "scrolled": true
   },
   "outputs": [],
   "source": [
    "from sklearn import tree \n",
    "from sklearn.utils import Bunch\n",
    "import sklearn as sklearn"
   ]
  },
  {
   "cell_type": "markdown",
   "metadata": {},
   "source": [
    "Define the matrix containing the data (one example per row)\n",
    "and the vector containing the corresponding target value"
   ]
  },
  {
   "cell_type": "markdown",
   "metadata": {},
   "source": [
    "In the following we start using a dataset (from UCI Machine Learning repository)"
   ]
  },
  {
   "cell_type": "code",
   "execution_count": 2,
   "metadata": {},
   "outputs": [],
   "source": [
    "from sklearn.datasets import load_iris\n",
    "iris = load_iris()"
   ]
  },
  {
   "cell_type": "markdown",
   "metadata": {},
   "source": [
    "# Declare the type of prediction model and the working criteria for the model induction algorithm"
   ]
  },
  {
   "cell_type": "code",
   "execution_count": 3,
   "metadata": {},
   "outputs": [],
   "source": [
    "clf = tree.DecisionTreeClassifier(criterion=\"entropy\",random_state=300,min_samples_leaf=5,class_weight={0:1,1:1,2:1})"
   ]
  },
  {
   "cell_type": "markdown",
   "metadata": {},
   "source": [
    "# Split the dataset in training and test set"
   ]
  },
  {
   "cell_type": "code",
   "execution_count": 4,
   "metadata": {
    "collapsed": false,
    "jupyter": {
     "outputs_hidden": false
    }
   },
   "outputs": [],
   "source": [
    "# Generate a random permutation of the indices of examples that will be later used \n",
    "# for the training and the test set\n",
    "import numpy as np\n",
    "np.random.seed(0)\n",
    "indices = np.random.permutation(len(iris.data))\n",
    "\n",
    "# We now decide to keep the last 10 indices for test set, the remaining for the training set\n",
    "indices_training=indices[:-10]\n",
    "indices_test=indices[-10:]\n",
    "\n",
    "iris_X_train = iris.data[indices_training] # keep for training all the matrix elements with the exception of the last 10 \n",
    "iris_y_train = iris.target[indices_training]\n",
    "iris_X_test  = iris.data[indices_test] # keep the last 10 elements for test set\n",
    "iris_y_test  = iris.target[indices_test]"
   ]
  },
  {
   "cell_type": "markdown",
   "metadata": {},
   "source": [
    "# Fit the learning model on training set"
   ]
  },
  {
   "cell_type": "code",
   "execution_count": 5,
   "metadata": {
    "collapsed": false,
    "jupyter": {
     "outputs_hidden": false
    }
   },
   "outputs": [],
   "source": [
    "# fit the model to the training data\n",
    "clf = clf.fit(iris_X_train, iris_y_train)"
   ]
  },
  {
   "cell_type": "markdown",
   "metadata": {},
   "source": [
    "# Obtain predictions"
   ]
  },
  {
   "cell_type": "code",
   "execution_count": 6,
   "metadata": {
    "collapsed": false,
    "jupyter": {
     "outputs_hidden": false
    }
   },
   "outputs": [
    {
     "name": "stdout",
     "output_type": "stream",
     "text": [
      "Predictions:\n",
      "[1 2 1 0 0 0 2 1 2 0]\n",
      "True classes:\n",
      "[1 1 1 0 0 0 2 1 2 0]\n",
      "['setosa' 'versicolor' 'virginica']\n"
     ]
    }
   ],
   "source": [
    "# apply fitted model \"clf\" to the test set \n",
    "predicted_y_test = clf.predict(iris_X_test)\n",
    "\n",
    "# print the predictions (class numbers associated to classes names in target names)\n",
    "print(\"Predictions:\")\n",
    "print(predicted_y_test)\n",
    "print(\"True classes:\")\n",
    "print(iris_y_test) \n",
    "print(iris.target_names)"
   ]
  },
  {
   "cell_type": "markdown",
   "metadata": {},
   "source": [
    "Print the index of the test instances and the corresponding predictions"
   ]
  },
  {
   "cell_type": "code",
   "execution_count": 7,
   "metadata": {},
   "outputs": [
    {
     "name": "stdout",
     "output_type": "stream",
     "text": [
      "Instance # 88: \n",
      "Predicted: versicolor\t True: versicolor\n",
      "\n",
      "Instance # 70: \n",
      "Predicted: virginica\t True: versicolor\n",
      "\n",
      "Instance # 87: \n",
      "Predicted: versicolor\t True: versicolor\n",
      "\n",
      "Instance # 36: \n",
      "Predicted: setosa\t True: setosa\n",
      "\n",
      "Instance # 21: \n",
      "Predicted: setosa\t True: setosa\n",
      "\n",
      "Instance # 9: \n",
      "Predicted: setosa\t True: setosa\n",
      "\n",
      "Instance # 103: \n",
      "Predicted: virginica\t True: virginica\n",
      "\n",
      "Instance # 67: \n",
      "Predicted: versicolor\t True: versicolor\n",
      "\n",
      "Instance # 117: \n",
      "Predicted: virginica\t True: virginica\n",
      "\n",
      "Instance # 47: \n",
      "Predicted: setosa\t True: setosa\n",
      "\n"
     ]
    }
   ],
   "source": [
    "# print the corresponding instances indexes and class names \n",
    "for i in range(len(iris_y_test)): \n",
    "    print(\"Instance # \"+str(indices_test[i])+\": \")\n",
    "    print(\"Predicted: \"+iris.target_names[predicted_y_test[i]]+\"\\t True: \"+iris.target_names[iris_y_test[i]]+\"\\n\")"
   ]
  },
  {
   "cell_type": "markdown",
   "metadata": {},
   "source": [
    "# Look at the specific examples"
   ]
  },
  {
   "cell_type": "code",
   "execution_count": 8,
   "metadata": {},
   "outputs": [
    {
     "name": "stdout",
     "output_type": "stream",
     "text": [
      "Instance # [ 88  70  87  36  21   9 103  67 117  47]: \n",
      "sepal length (cm)=5.6, sepal width (cm)=3.0, petal length (cm)=4.1, petal width (cm)=1.3\n",
      "Predicted: versicolor\t True: versicolor\n",
      "\n",
      "Instance # [ 88  70  87  36  21   9 103  67 117  47]: \n",
      "sepal length (cm)=5.9, sepal width (cm)=3.2, petal length (cm)=4.8, petal width (cm)=1.8\n",
      "Predicted: virginica\t True: versicolor\n",
      "\n",
      "Instance # [ 88  70  87  36  21   9 103  67 117  47]: \n",
      "sepal length (cm)=6.3, sepal width (cm)=2.3, petal length (cm)=4.4, petal width (cm)=1.3\n",
      "Predicted: versicolor\t True: versicolor\n",
      "\n",
      "Instance # [ 88  70  87  36  21   9 103  67 117  47]: \n",
      "sepal length (cm)=5.5, sepal width (cm)=3.5, petal length (cm)=1.3, petal width (cm)=0.2\n",
      "Predicted: setosa\t True: setosa\n",
      "\n",
      "Instance # [ 88  70  87  36  21   9 103  67 117  47]: \n",
      "sepal length (cm)=5.1, sepal width (cm)=3.7, petal length (cm)=1.5, petal width (cm)=0.4\n",
      "Predicted: setosa\t True: setosa\n",
      "\n",
      "Instance # [ 88  70  87  36  21   9 103  67 117  47]: \n",
      "sepal length (cm)=4.9, sepal width (cm)=3.1, petal length (cm)=1.5, petal width (cm)=0.1\n",
      "Predicted: setosa\t True: setosa\n",
      "\n",
      "Instance # [ 88  70  87  36  21   9 103  67 117  47]: \n",
      "sepal length (cm)=6.3, sepal width (cm)=2.9, petal length (cm)=5.6, petal width (cm)=1.8\n",
      "Predicted: virginica\t True: virginica\n",
      "\n",
      "Instance # [ 88  70  87  36  21   9 103  67 117  47]: \n",
      "sepal length (cm)=5.8, sepal width (cm)=2.7, petal length (cm)=4.1, petal width (cm)=1.0\n",
      "Predicted: versicolor\t True: versicolor\n",
      "\n",
      "Instance # [ 88  70  87  36  21   9 103  67 117  47]: \n",
      "sepal length (cm)=7.7, sepal width (cm)=3.8, petal length (cm)=6.7, petal width (cm)=2.2\n",
      "Predicted: virginica\t True: virginica\n",
      "\n",
      "Instance # [ 88  70  87  36  21   9 103  67 117  47]: \n",
      "sepal length (cm)=4.6, sepal width (cm)=3.2, petal length (cm)=1.4, petal width (cm)=0.2\n",
      "Predicted: setosa\t True: setosa\n",
      "\n"
     ]
    }
   ],
   "source": [
    "for i in range(len(iris_y_test)): \n",
    "    print(\"Instance # \"+str(indices_test)+\": \")\n",
    "    s=\"\"\n",
    "    for j in range(len(iris.feature_names)):\n",
    "        s=s+iris.feature_names[j]+\"=\"+str(iris_X_test[i][j])\n",
    "        if (j<len(iris.feature_names)-1): s=s+\", \"\n",
    "    print(s)\n",
    "    print(\"Predicted: \"+iris.target_names[predicted_y_test[i]]+\"\\t True: \"+iris.target_names[iris_y_test[i]]+\"\\n\")"
   ]
  },
  {
   "cell_type": "markdown",
   "metadata": {},
   "source": [
    "# Obtain model performance results"
   ]
  },
  {
   "cell_type": "code",
   "execution_count": 9,
   "metadata": {
    "collapsed": false,
    "jupyter": {
     "outputs_hidden": false
    }
   },
   "outputs": [
    {
     "name": "stdout",
     "output_type": "stream",
     "text": [
      "Accuracy score: 0.9\n",
      "F1 score: 0.8857142857142858\n"
     ]
    }
   ],
   "source": [
    "# print some metrics results\n",
    "from sklearn.metrics import accuracy_score\n",
    "from sklearn.metrics import f1_score\n",
    "acc_score = accuracy_score(iris_y_test, predicted_y_test)\n",
    "print(\"Accuracy score: \"+ str(acc_score))\n",
    "f1=f1_score(iris_y_test, predicted_y_test, average='macro')\n",
    "print(\"F1 score: \"+str(f1))"
   ]
  },
  {
   "cell_type": "markdown",
   "metadata": {},
   "source": [
    "# Use Cross Validation"
   ]
  },
  {
   "cell_type": "code",
   "execution_count": 10,
   "metadata": {
    "collapsed": false,
    "jupyter": {
     "outputs_hidden": false
    }
   },
   "outputs": [
    {
     "name": "stdout",
     "output_type": "stream",
     "text": [
      "[0.96666667 1.         0.86666667 0.86666667 1.        ]\n"
     ]
    }
   ],
   "source": [
    "KFOLD = 5\n",
    "from sklearn.datasets import load_iris\n",
    "from sklearn.model_selection import cross_val_score # will be used to separate training and test\n",
    "iris = load_iris()\n",
    "clf = tree.DecisionTreeClassifier(criterion=\"entropy\",random_state=300,min_samples_leaf=5,class_weight={0:1,1:1,2:1})\n",
    "clf = clf.fit(iris.data, iris.target)\n",
    "scores = cross_val_score(clf, iris.data, iris.target, cv=KFOLD) # score will be the accuracy\n",
    "print(scores)"
   ]
  },
  {
   "cell_type": "code",
   "execution_count": 11,
   "metadata": {
    "collapsed": false,
    "jupyter": {
     "outputs_hidden": false
    }
   },
   "outputs": [
    {
     "name": "stdout",
     "output_type": "stream",
     "text": [
      "[0.96658312 1.         0.86111111 0.86666667 1.        ]\n"
     ]
    }
   ],
   "source": [
    "# computes F1- score\n",
    "f1_scores = cross_val_score(clf, iris.data, iris.target, cv=KFOLD, scoring='f1_macro')\n",
    "print(f1_scores)"
   ]
  },
  {
   "cell_type": "markdown",
   "metadata": {},
   "source": [
    "# Show the resulting tree "
   ]
  },
  {
   "cell_type": "markdown",
   "metadata": {},
   "source": [
    "## 1. Print the picture in a PDF file"
   ]
  },
  {
   "cell_type": "code",
   "execution_count": 12,
   "metadata": {
    "collapsed": false,
    "jupyter": {
     "outputs_hidden": false
    }
   },
   "outputs": [
    {
     "data": {
      "text/plain": [
       "'my_iris_predictions.pdf'"
      ]
     },
     "execution_count": 12,
     "metadata": {},
     "output_type": "execute_result"
    }
   ],
   "source": [
    "import graphviz \n",
    "dot_data = tree.export_graphviz(clf, out_file=None) \n",
    "graph = graphviz.Source(dot_data) \n",
    "graph.render(\"my_iris_predictions\")"
   ]
  },
  {
   "cell_type": "markdown",
   "metadata": {},
   "source": [
    "## 2. Generate a picture here"
   ]
  },
  {
   "cell_type": "code",
   "execution_count": 13,
   "metadata": {
    "collapsed": false,
    "jupyter": {
     "outputs_hidden": false
    }
   },
   "outputs": [
    {
     "name": "stdout",
     "output_type": "stream",
     "text": [
      "['sepal length (cm)', 'sepal width (cm)', 'petal length (cm)', 'petal width (cm)']\n",
      "['setosa', 'versicolor', 'virginica']\n"
     ]
    }
   ],
   "source": [
    "print(list(iris.feature_names))\n",
    "print(list(iris.target_names))"
   ]
  },
  {
   "cell_type": "code",
   "execution_count": 14,
   "metadata": {
    "collapsed": false,
    "jupyter": {
     "outputs_hidden": false
    }
   },
   "outputs": [
    {
     "data": {
      "image/svg+xml": [
       "<?xml version=\"1.0\" encoding=\"UTF-8\" standalone=\"no\"?>\n",
       "<!DOCTYPE svg PUBLIC \"-//W3C//DTD SVG 1.1//EN\"\n",
       " \"http://www.w3.org/Graphics/SVG/1.1/DTD/svg11.dtd\">\n",
       "<!-- Generated by graphviz version 2.40.1 (20161225.0304)\n",
       " -->\n",
       "<!-- Title: Tree Pages: 1 -->\n",
       "<svg width=\"737pt\" height=\"552pt\"\n",
       " viewBox=\"0.00 0.00 737.00 552.00\" xmlns=\"http://www.w3.org/2000/svg\" xmlns:xlink=\"http://www.w3.org/1999/xlink\">\n",
       "<g id=\"graph0\" class=\"graph\" transform=\"scale(1 1) rotate(0) translate(4 548)\">\n",
       "<title>Tree</title>\n",
       "<polygon fill=\"#ffffff\" stroke=\"transparent\" points=\"-4,4 -4,-548 733,-548 733,4 -4,4\"/>\n",
       "<!-- 0 -->\n",
       "<g id=\"node1\" class=\"node\">\n",
       "<title>0</title>\n",
       "<path fill=\"#ffffff\" stroke=\"#000000\" d=\"M408,-544C408,-544 244,-544 244,-544 238,-544 232,-538 232,-532 232,-532 232,-473 232,-473 232,-467 238,-461 244,-461 244,-461 408,-461 408,-461 414,-461 420,-467 420,-473 420,-473 420,-532 420,-532 420,-538 414,-544 408,-544\"/>\n",
       "<text text-anchor=\"start\" x=\"240\" y=\"-528.8\" font-family=\"Helvetica,sans-Serif\" font-size=\"14.00\" fill=\"#000000\">petal length (cm) ≤ 2.45</text>\n",
       "<text text-anchor=\"start\" x=\"268.5\" y=\"-513.8\" font-family=\"Helvetica,sans-Serif\" font-size=\"14.00\" fill=\"#000000\">entropy = 1.585</text>\n",
       "<text text-anchor=\"start\" x=\"273\" y=\"-498.8\" font-family=\"Helvetica,sans-Serif\" font-size=\"14.00\" fill=\"#000000\">samples = 150</text>\n",
       "<text text-anchor=\"start\" x=\"255\" y=\"-483.8\" font-family=\"Helvetica,sans-Serif\" font-size=\"14.00\" fill=\"#000000\">value = [50, 50, 50]</text>\n",
       "<text text-anchor=\"start\" x=\"275.5\" y=\"-468.8\" font-family=\"Helvetica,sans-Serif\" font-size=\"14.00\" fill=\"#000000\">class = setosa</text>\n",
       "</g>\n",
       "<!-- 1 -->\n",
       "<g id=\"node2\" class=\"node\">\n",
       "<title>1</title>\n",
       "<path fill=\"#e58139\" stroke=\"#000000\" d=\"M295,-417.5C295,-417.5 179,-417.5 179,-417.5 173,-417.5 167,-411.5 167,-405.5 167,-405.5 167,-361.5 167,-361.5 167,-355.5 173,-349.5 179,-349.5 179,-349.5 295,-349.5 295,-349.5 301,-349.5 307,-355.5 307,-361.5 307,-361.5 307,-405.5 307,-405.5 307,-411.5 301,-417.5 295,-417.5\"/>\n",
       "<text text-anchor=\"start\" x=\"188.5\" y=\"-402.3\" font-family=\"Helvetica,sans-Serif\" font-size=\"14.00\" fill=\"#000000\">entropy = 0.0</text>\n",
       "<text text-anchor=\"start\" x=\"188.5\" y=\"-387.3\" font-family=\"Helvetica,sans-Serif\" font-size=\"14.00\" fill=\"#000000\">samples = 50</text>\n",
       "<text text-anchor=\"start\" x=\"175\" y=\"-372.3\" font-family=\"Helvetica,sans-Serif\" font-size=\"14.00\" fill=\"#000000\">value = [50, 0, 0]</text>\n",
       "<text text-anchor=\"start\" x=\"186.5\" y=\"-357.3\" font-family=\"Helvetica,sans-Serif\" font-size=\"14.00\" fill=\"#000000\">class = setosa</text>\n",
       "</g>\n",
       "<!-- 0&#45;&gt;1 -->\n",
       "<g id=\"edge1\" class=\"edge\">\n",
       "<title>0&#45;&gt;1</title>\n",
       "<path fill=\"none\" stroke=\"#000000\" d=\"M294.8721,-460.8796C286.4014,-449.5536 277.2181,-437.2748 268.7153,-425.9058\"/>\n",
       "<polygon fill=\"#000000\" stroke=\"#000000\" points=\"271.4562,-423.7268 262.6641,-417.8149 265.8505,-427.9193 271.4562,-423.7268\"/>\n",
       "<text text-anchor=\"middle\" x=\"259.0953\" y=\"-438.8589\" font-family=\"Helvetica,sans-Serif\" font-size=\"14.00\" fill=\"#000000\">True</text>\n",
       "</g>\n",
       "<!-- 2 -->\n",
       "<g id=\"node3\" class=\"node\">\n",
       "<title>2</title>\n",
       "<path fill=\"#ffffff\" stroke=\"#000000\" d=\"M495,-425C495,-425 337,-425 337,-425 331,-425 325,-419 325,-413 325,-413 325,-354 325,-354 325,-348 331,-342 337,-342 337,-342 495,-342 495,-342 501,-342 507,-348 507,-354 507,-354 507,-413 507,-413 507,-419 501,-425 495,-425\"/>\n",
       "<text text-anchor=\"start\" x=\"333\" y=\"-409.8\" font-family=\"Helvetica,sans-Serif\" font-size=\"14.00\" fill=\"#000000\">petal width (cm) ≤ 1.75</text>\n",
       "<text text-anchor=\"start\" x=\"367.5\" y=\"-394.8\" font-family=\"Helvetica,sans-Serif\" font-size=\"14.00\" fill=\"#000000\">entropy = 1.0</text>\n",
       "<text text-anchor=\"start\" x=\"363\" y=\"-379.8\" font-family=\"Helvetica,sans-Serif\" font-size=\"14.00\" fill=\"#000000\">samples = 100</text>\n",
       "<text text-anchor=\"start\" x=\"349.5\" y=\"-364.8\" font-family=\"Helvetica,sans-Serif\" font-size=\"14.00\" fill=\"#000000\">value = [0, 50, 50]</text>\n",
       "<text text-anchor=\"start\" x=\"354\" y=\"-349.8\" font-family=\"Helvetica,sans-Serif\" font-size=\"14.00\" fill=\"#000000\">class = versicolor</text>\n",
       "</g>\n",
       "<!-- 0&#45;&gt;2 -->\n",
       "<g id=\"edge2\" class=\"edge\">\n",
       "<title>0&#45;&gt;2</title>\n",
       "<path fill=\"none\" stroke=\"#000000\" d=\"M357.4776,-460.8796C364.1529,-452.0534 371.2658,-442.6485 378.1496,-433.5466\"/>\n",
       "<polygon fill=\"#000000\" stroke=\"#000000\" points=\"381.1474,-435.3852 384.388,-425.2981 375.5643,-431.1626 381.1474,-435.3852\"/>\n",
       "<text text-anchor=\"middle\" x=\"387.824\" y=\"-446.3608\" font-family=\"Helvetica,sans-Serif\" font-size=\"14.00\" fill=\"#000000\">False</text>\n",
       "</g>\n",
       "<!-- 3 -->\n",
       "<g id=\"node4\" class=\"node\">\n",
       "<title>3</title>\n",
       "<path fill=\"#4de88e\" stroke=\"#000000\" d=\"M395,-306C395,-306 231,-306 231,-306 225,-306 219,-300 219,-294 219,-294 219,-235 219,-235 219,-229 225,-223 231,-223 231,-223 395,-223 395,-223 401,-223 407,-229 407,-235 407,-235 407,-294 407,-294 407,-300 401,-306 395,-306\"/>\n",
       "<text text-anchor=\"start\" x=\"227\" y=\"-290.8\" font-family=\"Helvetica,sans-Serif\" font-size=\"14.00\" fill=\"#000000\">petal length (cm) ≤ 4.95</text>\n",
       "<text text-anchor=\"start\" x=\"255.5\" y=\"-275.8\" font-family=\"Helvetica,sans-Serif\" font-size=\"14.00\" fill=\"#000000\">entropy = 0.445</text>\n",
       "<text text-anchor=\"start\" x=\"264.5\" y=\"-260.8\" font-family=\"Helvetica,sans-Serif\" font-size=\"14.00\" fill=\"#000000\">samples = 54</text>\n",
       "<text text-anchor=\"start\" x=\"251\" y=\"-245.8\" font-family=\"Helvetica,sans-Serif\" font-size=\"14.00\" fill=\"#000000\">value = [0, 49, 5]</text>\n",
       "<text text-anchor=\"start\" x=\"251\" y=\"-230.8\" font-family=\"Helvetica,sans-Serif\" font-size=\"14.00\" fill=\"#000000\">class = versicolor</text>\n",
       "</g>\n",
       "<!-- 2&#45;&gt;3 -->\n",
       "<g id=\"edge3\" class=\"edge\">\n",
       "<title>2&#45;&gt;3</title>\n",
       "<path fill=\"none\" stroke=\"#000000\" d=\"M379.9756,-341.8796C372.1802,-332.8733 363.8633,-323.2644 355.8356,-313.9897\"/>\n",
       "<polygon fill=\"#000000\" stroke=\"#000000\" points=\"358.3691,-311.5686 349.1782,-306.2981 353.0763,-316.1498 358.3691,-311.5686\"/>\n",
       "</g>\n",
       "<!-- 8 -->\n",
       "<g id=\"node9\" class=\"node\">\n",
       "<title>8</title>\n",
       "<path fill=\"#843de6\" stroke=\"#000000\" d=\"M601,-306C601,-306 437,-306 437,-306 431,-306 425,-300 425,-294 425,-294 425,-235 425,-235 425,-229 431,-223 437,-223 437,-223 601,-223 601,-223 607,-223 613,-229 613,-235 613,-235 613,-294 613,-294 613,-300 607,-306 601,-306\"/>\n",
       "<text text-anchor=\"start\" x=\"433\" y=\"-290.8\" font-family=\"Helvetica,sans-Serif\" font-size=\"14.00\" fill=\"#000000\">petal length (cm) ≤ 4.95</text>\n",
       "<text text-anchor=\"start\" x=\"461.5\" y=\"-275.8\" font-family=\"Helvetica,sans-Serif\" font-size=\"14.00\" fill=\"#000000\">entropy = 0.151</text>\n",
       "<text text-anchor=\"start\" x=\"470.5\" y=\"-260.8\" font-family=\"Helvetica,sans-Serif\" font-size=\"14.00\" fill=\"#000000\">samples = 46</text>\n",
       "<text text-anchor=\"start\" x=\"457\" y=\"-245.8\" font-family=\"Helvetica,sans-Serif\" font-size=\"14.00\" fill=\"#000000\">value = [0, 1, 45]</text>\n",
       "<text text-anchor=\"start\" x=\"461.5\" y=\"-230.8\" font-family=\"Helvetica,sans-Serif\" font-size=\"14.00\" fill=\"#000000\">class = virginica</text>\n",
       "</g>\n",
       "<!-- 2&#45;&gt;8 -->\n",
       "<g id=\"edge8\" class=\"edge\">\n",
       "<title>2&#45;&gt;8</title>\n",
       "<path fill=\"none\" stroke=\"#000000\" d=\"M452.0244,-341.8796C459.8198,-332.8733 468.1367,-323.2644 476.1644,-313.9897\"/>\n",
       "<polygon fill=\"#000000\" stroke=\"#000000\" points=\"478.9237,-316.1498 482.8218,-306.2981 473.6309,-311.5686 478.9237,-316.1498\"/>\n",
       "</g>\n",
       "<!-- 4 -->\n",
       "<g id=\"node5\" class=\"node\">\n",
       "<title>4</title>\n",
       "<path fill=\"#3de684\" stroke=\"#000000\" d=\"M232.5,-187C232.5,-187 65.5,-187 65.5,-187 59.5,-187 53.5,-181 53.5,-175 53.5,-175 53.5,-116 53.5,-116 53.5,-110 59.5,-104 65.5,-104 65.5,-104 232.5,-104 232.5,-104 238.5,-104 244.5,-110 244.5,-116 244.5,-116 244.5,-175 244.5,-175 244.5,-181 238.5,-187 232.5,-187\"/>\n",
       "<text text-anchor=\"start\" x=\"61.5\" y=\"-171.8\" font-family=\"Helvetica,sans-Serif\" font-size=\"14.00\" fill=\"#000000\">sepal length (cm) ≤ 5.15</text>\n",
       "<text text-anchor=\"start\" x=\"91.5\" y=\"-156.8\" font-family=\"Helvetica,sans-Serif\" font-size=\"14.00\" fill=\"#000000\">entropy = 0.146</text>\n",
       "<text text-anchor=\"start\" x=\"100.5\" y=\"-141.8\" font-family=\"Helvetica,sans-Serif\" font-size=\"14.00\" fill=\"#000000\">samples = 48</text>\n",
       "<text text-anchor=\"start\" x=\"87\" y=\"-126.8\" font-family=\"Helvetica,sans-Serif\" font-size=\"14.00\" fill=\"#000000\">value = [0, 47, 1]</text>\n",
       "<text text-anchor=\"start\" x=\"87\" y=\"-111.8\" font-family=\"Helvetica,sans-Serif\" font-size=\"14.00\" fill=\"#000000\">class = versicolor</text>\n",
       "</g>\n",
       "<!-- 3&#45;&gt;4 -->\n",
       "<g id=\"edge4\" class=\"edge\">\n",
       "<title>3&#45;&gt;4</title>\n",
       "<path fill=\"none\" stroke=\"#000000\" d=\"M255.6408,-222.8796C242.4075,-213.2774 228.2303,-202.9903 214.6736,-193.1534\"/>\n",
       "<polygon fill=\"#000000\" stroke=\"#000000\" points=\"216.4762,-190.1371 206.3269,-187.0969 212.3651,-195.8027 216.4762,-190.1371\"/>\n",
       "</g>\n",
       "<!-- 7 -->\n",
       "<g id=\"node8\" class=\"node\">\n",
       "<title>7</title>\n",
       "<path fill=\"#c09cf2\" stroke=\"#000000\" d=\"M381.5,-179.5C381.5,-179.5 274.5,-179.5 274.5,-179.5 268.5,-179.5 262.5,-173.5 262.5,-167.5 262.5,-167.5 262.5,-123.5 262.5,-123.5 262.5,-117.5 268.5,-111.5 274.5,-111.5 274.5,-111.5 381.5,-111.5 381.5,-111.5 387.5,-111.5 393.5,-117.5 393.5,-123.5 393.5,-123.5 393.5,-167.5 393.5,-167.5 393.5,-173.5 387.5,-179.5 381.5,-179.5\"/>\n",
       "<text text-anchor=\"start\" x=\"270.5\" y=\"-164.3\" font-family=\"Helvetica,sans-Serif\" font-size=\"14.00\" fill=\"#000000\">entropy = 0.918</text>\n",
       "<text text-anchor=\"start\" x=\"284\" y=\"-149.3\" font-family=\"Helvetica,sans-Serif\" font-size=\"14.00\" fill=\"#000000\">samples = 6</text>\n",
       "<text text-anchor=\"start\" x=\"270.5\" y=\"-134.3\" font-family=\"Helvetica,sans-Serif\" font-size=\"14.00\" fill=\"#000000\">value = [0, 2, 4]</text>\n",
       "<text text-anchor=\"start\" x=\"270.5\" y=\"-119.3\" font-family=\"Helvetica,sans-Serif\" font-size=\"14.00\" fill=\"#000000\">class = virginica</text>\n",
       "</g>\n",
       "<!-- 3&#45;&gt;7 -->\n",
       "<g id=\"edge7\" class=\"edge\">\n",
       "<title>3&#45;&gt;7</title>\n",
       "<path fill=\"none\" stroke=\"#000000\" d=\"M318.2463,-222.8796C319.5908,-212.2134 321.0418,-200.7021 322.4032,-189.9015\"/>\n",
       "<polygon fill=\"#000000\" stroke=\"#000000\" points=\"325.8964,-190.1742 323.6746,-179.8149 318.9514,-189.2987 325.8964,-190.1742\"/>\n",
       "</g>\n",
       "<!-- 5 -->\n",
       "<g id=\"node6\" class=\"node\">\n",
       "<title>5</title>\n",
       "<path fill=\"#6aeca0\" stroke=\"#000000\" d=\"M128,-68C128,-68 12,-68 12,-68 6,-68 0,-62 0,-56 0,-56 0,-12 0,-12 0,-6 6,0 12,0 12,0 128,0 128,0 134,0 140,-6 140,-12 140,-12 140,-56 140,-56 140,-62 134,-68 128,-68\"/>\n",
       "<text text-anchor=\"start\" x=\"12.5\" y=\"-52.8\" font-family=\"Helvetica,sans-Serif\" font-size=\"14.00\" fill=\"#000000\">entropy = 0.722</text>\n",
       "<text text-anchor=\"start\" x=\"26\" y=\"-37.8\" font-family=\"Helvetica,sans-Serif\" font-size=\"14.00\" fill=\"#000000\">samples = 5</text>\n",
       "<text text-anchor=\"start\" x=\"12.5\" y=\"-22.8\" font-family=\"Helvetica,sans-Serif\" font-size=\"14.00\" fill=\"#000000\">value = [0, 4, 1]</text>\n",
       "<text text-anchor=\"start\" x=\"8\" y=\"-7.8\" font-family=\"Helvetica,sans-Serif\" font-size=\"14.00\" fill=\"#000000\">class = versicolor</text>\n",
       "</g>\n",
       "<!-- 4&#45;&gt;5 -->\n",
       "<g id=\"edge5\" class=\"edge\">\n",
       "<title>4&#45;&gt;5</title>\n",
       "<path fill=\"none\" stroke=\"#000000\" d=\"M119.5833,-103.9815C113.2669,-95.0666 106.5818,-85.6313 100.2349,-76.6734\"/>\n",
       "<polygon fill=\"#000000\" stroke=\"#000000\" points=\"102.9136,-74.3998 94.2765,-68.2637 97.2019,-78.4466 102.9136,-74.3998\"/>\n",
       "</g>\n",
       "<!-- 6 -->\n",
       "<g id=\"node7\" class=\"node\">\n",
       "<title>6</title>\n",
       "<path fill=\"#39e581\" stroke=\"#000000\" d=\"M286,-68C286,-68 170,-68 170,-68 164,-68 158,-62 158,-56 158,-56 158,-12 158,-12 158,-6 164,0 170,0 170,0 286,0 286,0 292,0 298,-6 298,-12 298,-12 298,-56 298,-56 298,-62 292,-68 286,-68\"/>\n",
       "<text text-anchor=\"start\" x=\"179.5\" y=\"-52.8\" font-family=\"Helvetica,sans-Serif\" font-size=\"14.00\" fill=\"#000000\">entropy = 0.0</text>\n",
       "<text text-anchor=\"start\" x=\"179.5\" y=\"-37.8\" font-family=\"Helvetica,sans-Serif\" font-size=\"14.00\" fill=\"#000000\">samples = 43</text>\n",
       "<text text-anchor=\"start\" x=\"166\" y=\"-22.8\" font-family=\"Helvetica,sans-Serif\" font-size=\"14.00\" fill=\"#000000\">value = [0, 43, 0]</text>\n",
       "<text text-anchor=\"start\" x=\"166\" y=\"-7.8\" font-family=\"Helvetica,sans-Serif\" font-size=\"14.00\" fill=\"#000000\">class = versicolor</text>\n",
       "</g>\n",
       "<!-- 4&#45;&gt;6 -->\n",
       "<g id=\"edge6\" class=\"edge\">\n",
       "<title>4&#45;&gt;6</title>\n",
       "<path fill=\"none\" stroke=\"#000000\" d=\"M178.4167,-103.9815C184.7331,-95.0666 191.4182,-85.6313 197.7651,-76.6734\"/>\n",
       "<polygon fill=\"#000000\" stroke=\"#000000\" points=\"200.7981,-78.4466 203.7235,-68.2637 195.0864,-74.3998 200.7981,-78.4466\"/>\n",
       "</g>\n",
       "<!-- 9 -->\n",
       "<g id=\"node10\" class=\"node\">\n",
       "<title>9</title>\n",
       "<path fill=\"#9a61ea\" stroke=\"#000000\" d=\"M558.5,-179.5C558.5,-179.5 451.5,-179.5 451.5,-179.5 445.5,-179.5 439.5,-173.5 439.5,-167.5 439.5,-167.5 439.5,-123.5 439.5,-123.5 439.5,-117.5 445.5,-111.5 451.5,-111.5 451.5,-111.5 558.5,-111.5 558.5,-111.5 564.5,-111.5 570.5,-117.5 570.5,-123.5 570.5,-123.5 570.5,-167.5 570.5,-167.5 570.5,-173.5 564.5,-179.5 558.5,-179.5\"/>\n",
       "<text text-anchor=\"start\" x=\"452\" y=\"-164.3\" font-family=\"Helvetica,sans-Serif\" font-size=\"14.00\" fill=\"#000000\">entropy = 0.65</text>\n",
       "<text text-anchor=\"start\" x=\"461\" y=\"-149.3\" font-family=\"Helvetica,sans-Serif\" font-size=\"14.00\" fill=\"#000000\">samples = 6</text>\n",
       "<text text-anchor=\"start\" x=\"447.5\" y=\"-134.3\" font-family=\"Helvetica,sans-Serif\" font-size=\"14.00\" fill=\"#000000\">value = [0, 1, 5]</text>\n",
       "<text text-anchor=\"start\" x=\"447.5\" y=\"-119.3\" font-family=\"Helvetica,sans-Serif\" font-size=\"14.00\" fill=\"#000000\">class = virginica</text>\n",
       "</g>\n",
       "<!-- 8&#45;&gt;9 -->\n",
       "<g id=\"edge9\" class=\"edge\">\n",
       "<title>8&#45;&gt;9</title>\n",
       "<path fill=\"none\" stroke=\"#000000\" d=\"M514.1035,-222.8796C512.8486,-212.2134 511.4944,-200.7021 510.2237,-189.9015\"/>\n",
       "<polygon fill=\"#000000\" stroke=\"#000000\" points=\"513.6816,-189.3375 509.0371,-179.8149 506.7295,-190.1554 513.6816,-189.3375\"/>\n",
       "</g>\n",
       "<!-- 10 -->\n",
       "<g id=\"node11\" class=\"node\">\n",
       "<title>10</title>\n",
       "<path fill=\"#8139e5\" stroke=\"#000000\" d=\"M717,-179.5C717,-179.5 601,-179.5 601,-179.5 595,-179.5 589,-173.5 589,-167.5 589,-167.5 589,-123.5 589,-123.5 589,-117.5 595,-111.5 601,-111.5 601,-111.5 717,-111.5 717,-111.5 723,-111.5 729,-117.5 729,-123.5 729,-123.5 729,-167.5 729,-167.5 729,-173.5 723,-179.5 717,-179.5\"/>\n",
       "<text text-anchor=\"start\" x=\"610.5\" y=\"-164.3\" font-family=\"Helvetica,sans-Serif\" font-size=\"14.00\" fill=\"#000000\">entropy = 0.0</text>\n",
       "<text text-anchor=\"start\" x=\"610.5\" y=\"-149.3\" font-family=\"Helvetica,sans-Serif\" font-size=\"14.00\" fill=\"#000000\">samples = 40</text>\n",
       "<text text-anchor=\"start\" x=\"597\" y=\"-134.3\" font-family=\"Helvetica,sans-Serif\" font-size=\"14.00\" fill=\"#000000\">value = [0, 0, 40]</text>\n",
       "<text text-anchor=\"start\" x=\"601.5\" y=\"-119.3\" font-family=\"Helvetica,sans-Serif\" font-size=\"14.00\" fill=\"#000000\">class = virginica</text>\n",
       "</g>\n",
       "<!-- 8&#45;&gt;10 -->\n",
       "<g id=\"edge10\" class=\"edge\">\n",
       "<title>8&#45;&gt;10</title>\n",
       "<path fill=\"none\" stroke=\"#000000\" d=\"M567.9652,-222.8796C581.8073,-211.1138 596.8592,-198.3197 610.6641,-186.5855\"/>\n",
       "<polygon fill=\"#000000\" stroke=\"#000000\" points=\"613.2769,-188.9582 618.6295,-179.8149 608.7433,-183.6247 613.2769,-188.9582\"/>\n",
       "</g>\n",
       "</g>\n",
       "</svg>\n"
      ],
      "text/plain": [
       "<graphviz.files.Source at 0x7fddc3789e50>"
      ]
     },
     "execution_count": 14,
     "metadata": {},
     "output_type": "execute_result"
    }
   ],
   "source": [
    "dot_data = tree.export_graphviz(clf, out_file=None, \n",
    "                         feature_names=iris.feature_names, \n",
    "                         class_names=iris.target_names, \n",
    "                         filled=True, rounded=True,  \n",
    "                         special_characters=True)  \n",
    "graph = graphviz.Source(dot_data)  \n",
    "graph"
   ]
  },
  {
   "cell_type": "markdown",
   "metadata": {},
   "source": [
    "## Exercise \\#1: Artificial Inflation on training set"
   ]
  },
  {
   "cell_type": "code",
   "execution_count": 15,
   "metadata": {},
   "outputs": [],
   "source": [
    "import matplotlib.pyplot as plt\n",
    "import matplotlib as mpl\n",
    "import numpy as np\n",
    "from sklearn.datasets import load_iris\n",
    "\n",
    "# global setup \n",
    "setosa_color = mpl.colors.to_rgb('#eb4d4b')\n",
    "versicolor_color = mpl.colors.to_rgb('#686de0')\n",
    "virginica_color = mpl.colors.to_rgb('#badc58')\n",
    "\n",
    "target_colors = [setosa_color,versicolor_color,virginica_color]\n",
    "\n",
    "eval_metrics={}\n",
    "\n",
    "\n",
    "def print_evaluations(metrics):\n",
    "    for dataset, metrics in eval_metrics.items():\n",
    "        msg = \"Model trained on {}. Accuracy score: {:.4f}. \"\n",
    "        if 'f1-measure' in metrics:\n",
    "            msg += \"f1 score: {:0.4f}\".format(metrics['f1-measure'])\n",
    "        print(msg.format(dataset, metrics['accuracy']))"
   ]
  },
  {
   "cell_type": "code",
   "execution_count": 16,
   "metadata": {},
   "outputs": [],
   "source": [
    "iris_stacked = np.column_stack((iris_X_train,iris_y_train)) # merge together features and labels columnwisely\n",
    "\n",
    "# get indeces for the specified classes\n",
    "virginica_indeces = np.where(iris_stacked[:,4]==1) # versicolor\n",
    "versicolor_indeces = np.where(iris_stacked[:,4]==2) # virginica\n",
    "\n",
    "# get instances for the specified classes\n",
    "virginica = iris_stacked[virginica_indeces]\n",
    "versicolor = iris_stacked[versicolor_indeces]\n",
    "\n",
    "# inflating\n",
    "virginica = np.repeat(virginica, 10, axis=0)\n",
    "versicolor = np.repeat(versicolor, 10, axis=0)\n",
    "\n",
    "# merging\n",
    "inflated_iris = np.row_stack((iris_stacked, virginica, versicolor))\n",
    "#np.random.shuffle(inflated_iris) #shuffling to avoid equals folds in cross validation"
   ]
  },
  {
   "cell_type": "markdown",
   "metadata": {},
   "source": [
    "### Visualize class distribution"
   ]
  },
  {
   "cell_type": "code",
   "execution_count": 17,
   "metadata": {},
   "outputs": [
    {
     "data": {
      "image/png": "[encoded data removed]",
      "text/plain": [
       "<Figure size 1008x288 with 2 Axes>"
      ]
     },
     "metadata": {
      "needs_background": "light"
     },
     "output_type": "display_data"
    }
   ],
   "source": [
    "# plot class distributions\n",
    "fig, axes = plt.subplots(1,2,figsize=(14,4))\n",
    "\n",
    "class_distrib = np.bincount(iris_stacked[:,4].astype(np.int))\n",
    "inflated_class_distrib = np.bincount(inflated_iris[:,4].astype(np.int))\n",
    "\n",
    "bins=[0,1,2]\n",
    "axes[0].bar(bins, class_distrib, tick_label=iris.target_names, color=[setosa_color,versicolor_color,virginica_color])\n",
    "axes[0].set_title(\"Iris Class Distribution\");\n",
    "\n",
    "\n",
    "axes[1].bar(bins, inflated_class_distrib, tick_label=iris.target_names, color=[setosa_color,versicolor_color,virginica_color])\n",
    "axes[1].set_title(\"Iris Class Distribution (inflated)\");"
   ]
  },
  {
   "cell_type": "markdown",
   "metadata": {},
   "source": [
    "### Evaluations on inflated dataset\n",
    "\n",
    "Evaluating the model with the augmented dataset, virginica and versicolor' istances are 10 times more than the original iris dataset. The model evaluation is executed with 10-fold cross validation"
   ]
  },
  {
   "cell_type": "code",
   "execution_count": 18,
   "metadata": {},
   "outputs": [
    {
     "name": "stdout",
     "output_type": "stream",
     "text": [
      "Model trained on iris. Accuracy score: 0.9000. f1 score: 0.8857\n",
      "Model trained on inflated-iris. Accuracy score: 0.9000. f1 score: 0.8857\n"
     ]
    }
   ],
   "source": [
    "clf = tree.DecisionTreeClassifier(criterion=\"entropy\",random_state=300,min_samples_leaf=5,class_weight={0:1,1:1,2:1})\n",
    "\n",
    "# train and evaluate on iris\n",
    "clf.fit(iris_X_train,iris_y_train)\n",
    "predictions = clf.predict(iris_X_test)\n",
    "\n",
    "acc_score = accuracy_score(iris_y_test, predictions)\n",
    "f1=sklearn.metrics.f1_score(iris_y_test, predictions, average='macro')\n",
    "\n",
    "eval_metrics['iris']={'accuracy':acc_score,'f1-measure':f1}\n",
    "\n",
    "# train and evaluate on inflated iris\n",
    "inflated_iris_X_train = inflated_iris[:,0:4]\n",
    "inflated_iris_y_train = inflated_iris[:,4]\n",
    "\n",
    "clf.fit(inflated_iris_X_train,inflated_iris_y_train)\n",
    "predictions = clf.predict(iris_X_test)\n",
    "\n",
    "acc_score = accuracy_score(iris_y_test, predictions)\n",
    "f1=sklearn.metrics.f1_score(iris_y_test, predictions, average='macro')\n",
    "\n",
    "eval_metrics['inflated-iris']={'accuracy':acc_score,'f1-measure':f1}\n",
    "\n",
    "print_evaluations(eval_metrics)"
   ]
  },
  {
   "cell_type": "markdown",
   "metadata": {},
   "source": [
    "## Modify class weights"
   ]
  },
  {
   "cell_type": "code",
   "execution_count": 19,
   "metadata": {},
   "outputs": [
    {
     "name": "stdout",
     "output_type": "stream",
     "text": [
      "Model trained on iris. Accuracy score: 0.9000. f1 score: 0.8857\n",
      "Model trained on inflated-iris. Accuracy score: 0.9000. f1 score: 0.8857\n",
      "Model trained on iris (class weighted). Accuracy score: 0.9000. f1 score: 0.8857\n"
     ]
    }
   ],
   "source": [
    "class_weights = {0:1, 1:10, 2:10}\n",
    "clf_weighted = tree.DecisionTreeClassifier(criterion=\"entropy\",random_state=300,min_samples_leaf=5,class_weight=class_weights)\n",
    "clf.fit(iris_X_train,iris_y_train)\n",
    "predictions = clf.predict(iris_X_test)\n",
    "\n",
    "acc_score = accuracy_score(iris_y_test, predictions)\n",
    "f1=sklearn.metrics.f1_score(iris_y_test, predictions, average='macro')\n",
    "\n",
    "eval_metrics['iris (class weighted)']={'accuracy':acc_score,'f1-measure':f1}\n",
    "\n",
    "print_evaluations(eval_metrics)"
   ]
  },
  {
   "cell_type": "markdown",
   "metadata": {},
   "source": [
    "## Hyperparameters Optimization"
   ]
  },
  {
   "cell_type": "markdown",
   "metadata": {},
   "source": [
    "To find the best combination of hyperparameter we apply an *exhaustive search* over the *parameter space*."
   ]
  },
  {
   "cell_type": "code",
   "execution_count": 20,
   "metadata": {},
   "outputs": [],
   "source": [
    "params = {'max_depth':np.arange(2,20),\n",
    "          'min_samples_split':np.arange(2,10),\n",
    "          'min_samples_leaf':np.arange(1,10),\n",
    "          'max_leaf_nodes':np.arange(2,20),\n",
    "          'min_impurity_decrease':np.linspace(0,1,11)}\n",
    "                                     \n",
    "clf = sklearn.model_selection.GridSearchCV(sklearn.tree.DecisionTreeClassifier(),params,\n",
    "                                           scoring=['accuracy'],n_jobs=4,\n",
    "                                           refit='accuracy')\n",
    "clf.fit(iris_X_train,iris_y_train);"
   ]
  },
  {
   "cell_type": "code",
   "execution_count": 21,
   "metadata": {},
   "outputs": [
    {
     "name": "stdout",
     "output_type": "stream",
     "text": [
      "Model trained on iris. Accuracy score: 0.9000. f1 score: 0.8857\n",
      "Model trained on inflated-iris. Accuracy score: 0.9000. f1 score: 0.8857\n",
      "Model trained on iris (class weighted). Accuracy score: 0.9000. f1 score: 0.8857\n",
      "Model trained on iris hyperparams optimization. Accuracy score: 0.9786. \n"
     ]
    }
   ],
   "source": [
    "best_clf = clf.best_estimator_\n",
    "eval_metrics['iris hyperparams optimization']={'accuracy':clf.best_score_}\n",
    "print_evaluations(eval_metrics)"
   ]
  },
  {
   "cell_type": "markdown",
   "metadata": {},
   "source": [
    "## Confusion Matrix"
   ]
  },
  {
   "cell_type": "code",
   "execution_count": 22,
   "metadata": {},
   "outputs": [
    {
     "data": {
      "text/plain": [
       "Text(0.5, 1.0, 'Decision tree with optimized params')"
      ]
     },
     "execution_count": 22,
     "metadata": {},
     "output_type": "execute_result"
    },
    {
     "data": {
      "image/png": "[encoded data removed]",
      "text/plain": [
       "<Figure size 1008x360 with 4 Axes>"
      ]
     },
     "metadata": {
      "needs_background": "light"
     },
     "output_type": "display_data"
    }
   ],
   "source": [
    "clf = tree.DecisionTreeClassifier(criterion=\"entropy\",random_state=300,min_samples_leaf=5,class_weight={0:1,1:1,2:1})\n",
    "clf = clf.fit(iris.data, iris.target)\n",
    "\n",
    "fig, axes = plt.subplots(1,2,figsize=(14,5))\n",
    "\n",
    "sklearn.metrics.plot_confusion_matrix(best_clf,iris_X_test,iris_y_test,display_labels=['Setosa','Versicolor','Virginica'],ax=axes[0])\n",
    "sklearn.metrics.plot_confusion_matrix(clf,iris_X_test,iris_y_test,display_labels=['Setosa','Versicolor','Virginica'],ax=axes[1])\n",
    "\n",
    "axes[0].set_title('Decision tree with a priori params')\n",
    "axes[1].set_title('Decision tree with optimized params')"
   ]
  },
  {
   "cell_type": "markdown",
   "metadata": {},
   "source": [
    "## Coverage and ROC Spaces\n",
    "Coverage and roc plot are natural suitable for *binary classifiers*. To extend to a multiclass case we apply a *one-vs-rest* scheme.\n",
    "Essentially we construct $K$ **binary** classifiers, and in turn we fit the $i$-th classifier to a traning set where instances of class $C_i$ are mapped to the *positive class* and the remaing intstances of class $C_j \\ i\\neq j$ are mapped to the *negative class*."
   ]
  },
  {
   "cell_type": "code",
   "execution_count": 23,
   "metadata": {},
   "outputs": [],
   "source": [
    "from sklearn.multiclass import OneVsRestClassifier\n",
    "\n",
    "clf = sklearn.tree.DecisionTreeClassifier(criterion=\"entropy\",random_state=300,\n",
    "                                                           min_samples_leaf=3, min_impurity_decrease=0.0,\n",
    "                                                           max_depth=3, max_leaf_nodes=4)\n",
    "ovr_clf = OneVsRestClassifier(clf)\n",
    "ovr_clf.fit(iris_X_train,iris_y_train);"
   ]
  },
  {
   "cell_type": "markdown",
   "metadata": {},
   "source": [
    "We can access to the binary classfiers of OneVSRest, so we visualize the decision tree associated."
   ]
  },
  {
   "cell_type": "code",
   "execution_count": 24,
   "metadata": {},
   "outputs": [
    {
     "name": "stdout",
     "output_type": "stream",
     "text": [
      "setosa\n",
      "versicolor\n",
      "virginica\n"
     ]
    }
   ],
   "source": [
    "for i, treez in enumerate(ovr_clf.estimators_):\n",
    "    class_name = iris.target_names[i]\n",
    "    print(class_name)\n",
    "    graph = graphviz.Source( tree.export_graphviz(treez,out_file=None,filled=True, feature_names=iris.feature_names, class_names=iris.target_names) ) \n",
    "    graph.render(\"Tree {}\".format(iris.target_names[i]))\n",
    "    graph.view()"
   ]
  },
  {
   "cell_type": "markdown",
   "metadata": {},
   "source": [
    "To build the coverage and roc curves, we follow the pseudo algorithm written in [Peter Flach's book](https://www.cambridge.org/core/books/machine-learning/621D3E616DF879E494B094CC93ED36A4):\n",
    "* Access the \"local probability distribution\" contained in the decision tree' leves. (computed by `get_leaves` function)\n",
    "* Compute the *empirical probability of the positive class* with *laplace smoothing*\n",
    "$$\n",
    "\\dot{p}=\\frac{n^+ +1}{n^+ + n^- +2}\n",
    "$$\n",
    "* Rank the leaves in **decreasing** order by empirical probability\n",
    "* Each point $(x,y)$ in the coverage space is given by the **ranked leaves** cumulative TP and FP:\n",
    "$$ (x,y) = (TP,FP) $$ instead for the roc curve: \n",
    "$$(x,y) = (\\frac{TP}{POS},\\frac{FP}{NEG})$$ \n",
    "The last 3 points are computed by `get_coverage_curve` and `get_roc_curve` functions."
   ]
  },
  {
   "cell_type": "code",
   "execution_count": 25,
   "metadata": {},
   "outputs": [],
   "source": [
    "def get_leaves(tree):\n",
    "    \"\"\"\n",
    "    return mask of leaves indeces (eg. [True,False,True] means that first and last nodes in the tree are leaves)\n",
    "    and leaves values -> a 2d array of [[a,b],[c,d]] where a,c are negative class instances in the respective nodes, b,d positive ones.\n",
    "    \"\"\"\n",
    "    n_nodes = tree.tree_.node_count\n",
    "    children_left = tree.tree_.children_left\n",
    "    children_right = tree.tree_.children_right\n",
    "\n",
    "    node_depth = np.zeros(shape=n_nodes, dtype=np.int64)\n",
    "    is_leaves = np.zeros(shape=n_nodes, dtype=np.bool)\n",
    "   \n",
    "    stack = [(0, -1)]  # seed is the root node id and its parent depth\n",
    "    while len(stack) > 0:\n",
    "        node_id, parent_depth = stack.pop()\n",
    "        node_depth[node_id] = parent_depth + 1\n",
    "\n",
    "        # If we have a test node\n",
    "        if (children_left[node_id] != children_right[node_id]):\n",
    "            stack.append((children_left[node_id], parent_depth + 1))\n",
    "            stack.append((children_right[node_id], parent_depth + 1))\n",
    "        else:\n",
    "            is_leaves[node_id] = True\n",
    "    \n",
    "    return is_leaves, np.squeeze(tree.tree_.value[is_leaves],axis=1)\n",
    "\n",
    "def get_coverage_curve(estimator):\n",
    "\n",
    "    _, leaves = get_leaves(estimator) #get leaves\n",
    "\n",
    "    empirical_proba = (leaves[:,1] +1)/ (np.sum(leaves,axis=1) +2) # compute empirical probabilities (positive class instances / total instances)\n",
    "\n",
    "    ind = np.argsort(empirical_proba)[::-1] # return the indices that makes empirical_proba sorted in descending order\n",
    "    \n",
    "    coverage_points = np.cumsum(leaves[ind],axis=0) # get the actual point in coverage space\n",
    "    coverage_points = np.row_stack(([0,0],coverage_points)) ## add a \"dummy\" origin point\n",
    "    \n",
    "    return coverage_points\n",
    "\n",
    "\n",
    "\n",
    "def get_roc_curve(estimator):\n",
    "\n",
    "    _, leaves = get_leaves(estimator) #get leaves\n",
    "\n",
    "    empirical_proba = (leaves[:,1] +1)/ (np.sum(leaves,axis=1) +2) # compute empirical probabilities (positive class instances / total instances)\n",
    "\n",
    "    ind = np.argsort(empirical_proba)[::-1] # return the indices that makes empirical_proba sorted in descending order\n",
    "    \n",
    "    coverage_points = np.cumsum(leaves[ind],axis=0) # get the actual point in coverage space\n",
    "    coverage_points = np.row_stack(([0,0],coverage_points)) # add a \"dummy\" origin point\n",
    "    \n",
    "    roc_points = coverage_points / np.sum(leaves,axis=0) # normalize (TP/POS and FP /NEG)\n",
    "    \n",
    "    return roc_points"
   ]
  },
  {
   "cell_type": "markdown",
   "metadata": {},
   "source": [
    "### Coverage Space"
   ]
  },
  {
   "cell_type": "code",
   "execution_count": 26,
   "metadata": {},
   "outputs": [
    {
     "data": {
      "image/png": "[encoded data removed]",
      "text/plain": [
       "<Figure size 720x576 with 4 Axes>"
      ]
     },
     "metadata": {
      "needs_background": "light"
     },
     "output_type": "display_data"
    }
   ],
   "source": [
    "fig= plt.figure(figsize=(10,8),constrained_layout=True)\n",
    "\n",
    "gs=fig.add_gridspec(3,3)\n",
    "main_ax=fig.add_subplot(gs[:2,0:2])\n",
    "setosa_ax = fig.add_subplot(gs[0,2])\n",
    "versicolor_ax = fig.add_subplot(gs[1,2])\n",
    "virginica_ax = fig.add_subplot(gs[2,2])\n",
    "\n",
    "axes=[setosa_ax,versicolor_ax,virginica_ax]\n",
    "\n",
    "for treeclf,ax,class_name,color in zip(ovr_clf.estimators_,axes,iris.target_names,target_colors):\n",
    "    points = get_coverage_curve(treeclf)\n",
    "   \n",
    "    ax.plot(points[:,0], points[:,1], marker='o', markersize=4, linewidth=2, c=color)\n",
    "    ax.set_xlabel('False Positive')\n",
    "    ax.set_ylabel('True Positive')\n",
    "    ax.set_title('Coverage Plot ({})'.format(class_name))\n",
    "    ax.grid(True,alpha=0.4)\n",
    "    \n",
    "    main_ax.plot(points[:,0], points[:,1],  marker='o', markersize=4, linewidth=1.25, c=color,label=class_name)\n",
    "    \n",
    "main_ax.set_xlabel('False Positive')\n",
    "main_ax.set_ylabel('True Positive')\n",
    "main_ax.set_title('Multiclass Coverage Plot')\n",
    "main_ax.grid(True,alpha=0.4)\n",
    "main_ax.legend();"
   ]
  },
  {
   "cell_type": "markdown",
   "metadata": {},
   "source": [
    "### ROC Space"
   ]
  },
  {
   "cell_type": "code",
   "execution_count": 27,
   "metadata": {},
   "outputs": [
    {
     "data": {
      "image/png": "[encoded data removed]",
      "text/plain": [
       "<Figure size 720x576 with 4 Axes>"
      ]
     },
     "metadata": {
      "needs_background": "light"
     },
     "output_type": "display_data"
    }
   ],
   "source": [
    "fig= plt.figure(figsize=(10,8),constrained_layout=True)\n",
    "\n",
    "gs=fig.add_gridspec(3,3)\n",
    "main_ax=fig.add_subplot(gs[:2,0:2])\n",
    "setosa_ax = fig.add_subplot(gs[0,2])\n",
    "versicolor_ax = fig.add_subplot(gs[1,2])\n",
    "virginica_ax = fig.add_subplot(gs[2,2])\n",
    "\n",
    "\n",
    "axes=[setosa_ax,versicolor_ax,virginica_ax]\n",
    "\n",
    "for treeclf,ax,class_name,color in zip(ovr_clf.estimators_,axes,iris.target_names,target_colors):\n",
    "    points = get_roc_curve(treeclf)\n",
    "   \n",
    "    ax.plot(points[:,0], points[:,1], marker='o', markersize=4, linewidth=1.25, c=color)\n",
    "    ax.set_xlabel('FPR')\n",
    "    ax.set_ylabel('TPR')\n",
    "    ax.set_title('ROC Plot ({})'.format(class_name))\n",
    "    ax.grid(True,alpha=0.4)\n",
    "    \n",
    "    main_ax.plot(points[:,0], points[:,1],  marker='o', markersize=4, linewidth=1.25, c=color,label=class_name)\n",
    "    \n",
    "main_ax.set_xlabel('FPR')\n",
    "main_ax.set_ylabel('TPR')\n",
    "main_ax.set_title('Multiclass ROC Plot')\n",
    "main_ax.grid(True,alpha=0.4)\n",
    "main_ax.legend();"
   ]
  }
 ],
 "metadata": {
  "anaconda-cloud": {},
  "kernelspec": {
   "display_name": "Python 3",
   "language": "python",
   "name": "python3"
  },
  "language_info": {
   "codemirror_mode": {
    "name": "ipython",
    "version": 3
   },
   "file_extension": ".py",
   "mimetype": "text/x-python",
   "name": "python",
   "nbconvert_exporter": "python",
   "pygments_lexer": "ipython3",
   "version": "3.7.4"
  }
 },
 "nbformat": 4,
 "nbformat_minor": 4
}

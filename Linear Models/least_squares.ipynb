{
 "cells": [
  {
   "cell_type": "markdown",
   "metadata": {},
   "source": [
    "# Experimenting with least squares and its variants"
   ]
  },
  {
   "cell_type": "code",
   "execution_count": 33,
   "metadata": {},
   "outputs": [],
   "source": [
    "%matplotlib inline\n",
    "\n",
    "from sklearn import datasets\n",
    "from scipy.optimize import fmin_bfgs\n",
    "import numpy as np\n",
    "from numpy.linalg import norm\n",
    "from numpy.linalg import inv"
   ]
  },
  {
   "cell_type": "markdown",
   "metadata": {},
   "source": [
    "## Data preparation"
   ]
  },
  {
   "cell_type": "code",
   "execution_count": 34,
   "metadata": {},
   "outputs": [
    {
     "data": {
      "text/plain": [
       "(506, 13)"
      ]
     },
     "execution_count": 34,
     "metadata": {},
     "output_type": "execute_result"
    }
   ],
   "source": [
    "boston = datasets.load_boston()\n",
    "data = np.array(boston.data)\n",
    "data.shape"
   ]
  },
  {
   "cell_type": "markdown",
   "metadata": {},
   "source": [
    "The boston dataset is one of the standard regression problems used to experiment with learning algorithms. Below you can find the dataset description"
   ]
  },
  {
   "cell_type": "code",
   "execution_count": 3,
   "metadata": {},
   "outputs": [
    {
     "name": "stdout",
     "output_type": "stream",
     "text": [
      ".. _boston_dataset:\n",
      "\n",
      "Boston house prices dataset\n",
      "---------------------------\n",
      "\n",
      "**Data Set Characteristics:**  \n",
      "\n",
      "    :Number of Instances: 506 \n",
      "\n",
      "    :Number of Attributes: 13 numeric/categorical predictive. Median Value (attribute 14) is usually the target.\n",
      "\n",
      "    :Attribute Information (in order):\n",
      "        - CRIM     per capita crime rate by town\n",
      "        - ZN       proportion of residential land zoned for lots over 25,000 sq.ft.\n",
      "        - INDUS    proportion of non-retail business acres per town\n",
      "        - CHAS     Charles River dummy variable (= 1 if tract bounds river; 0 otherwise)\n",
      "        - NOX      nitric oxides concentration (parts per 10 million)\n",
      "        - RM       average number of rooms per dwelling\n",
      "        - AGE      proportion of owner-occupied units built prior to 1940\n",
      "        - DIS      weighted distances to five Boston employment centres\n",
      "        - RAD      index of accessibility to radial highways\n",
      "        - TAX      full-value property-tax rate per $10,000\n",
      "        - PTRATIO  pupil-teacher ratio by town\n",
      "        - B        1000(Bk - 0.63)^2 where Bk is the proportion of blacks by town\n",
      "        - LSTAT    % lower status of the population\n",
      "        - MEDV     Median value of owner-occupied homes in $1000's\n",
      "\n",
      "    :Missing Attribute Values: None\n",
      "\n",
      "    :Creator: Harrison, D. and Rubinfeld, D.L.\n",
      "\n",
      "This is a copy of UCI ML housing dataset.\n",
      "https://archive.ics.uci.edu/ml/machine-learning-databases/housing/\n",
      "\n",
      "\n",
      "This dataset was taken from the StatLib library which is maintained at Carnegie Mellon University.\n",
      "\n",
      "The Boston house-price data of Harrison, D. and Rubinfeld, D.L. 'Hedonic\n",
      "prices and the demand for clean air', J. Environ. Economics & Management,\n",
      "vol.5, 81-102, 1978.   Used in Belsley, Kuh & Welsch, 'Regression diagnostics\n",
      "...', Wiley, 1980.   N.B. Various transformations are used in the table on\n",
      "pages 244-261 of the latter.\n",
      "\n",
      "The Boston house-price data has been used in many machine learning papers that address regression\n",
      "problems.   \n",
      "     \n",
      ".. topic:: References\n",
      "\n",
      "   - Belsley, Kuh & Welsch, 'Regression diagnostics: Identifying Influential Data and Sources of Collinearity', Wiley, 1980. 244-261.\n",
      "   - Quinlan,R. (1993). Combining Instance-Based and Model-Based Learning. In Proceedings on the Tenth International Conference of Machine Learning, 236-243, University of Massachusetts, Amherst. Morgan Kaufmann.\n",
      "\n"
     ]
    }
   ],
   "source": [
    "print(boston.DESCR)"
   ]
  },
  {
   "cell_type": "markdown",
   "metadata": {},
   "source": [
    "First step to apply the formulae we learnt during the lectures is to rewrite the dataset in homogeneous coordinates (i.e., we append a column of 1 to the matrix containing the examples):"
   ]
  },
  {
   "cell_type": "code",
   "execution_count": 35,
   "metadata": {},
   "outputs": [
    {
     "data": {
      "text/plain": [
       "(506, 14)"
      ]
     },
     "execution_count": 35,
     "metadata": {},
     "output_type": "execute_result"
    }
   ],
   "source": [
    "t = np.ones(len(data)).reshape(len(data),1)\n",
    "data = np.append(data, t, 1)\n",
    "target = np.array(boston.target)\n",
    "data.shape"
   ]
  },
  {
   "cell_type": "markdown",
   "metadata": {},
   "source": [
    "We now divide the data into a training set $X$ and a test set $X_\\textrm{test}$."
   ]
  },
  {
   "cell_type": "code",
   "execution_count": 36,
   "metadata": {},
   "outputs": [],
   "source": [
    "X,y = data[0:400,:], target[0:400]\n",
    "X_test, y_test = data[400:,:], target[400:]"
   ]
  },
  {
   "cell_type": "markdown",
   "metadata": {},
   "source": [
    "# Exercise"
   ]
  },
  {
   "cell_type": "markdown",
   "metadata": {},
   "source": [
    "1. Calculate the least square solution (to the regression problem outlined above) and evaluate its performances on the training set and on the test set.\n",
    "1. Calculate the ridge regression solution (set lambda to 0.01) and evaluate its performances on the training set and on test set.\n",
    "1. Calculate the lasso regression solution and evaluate its performances on the training set and on the test set."
   ]
  },
  {
   "cell_type": "markdown",
   "metadata": {},
   "source": [
    "## Notes"
   ]
  },
  {
   "cell_type": "markdown",
   "metadata": {},
   "source": [
    "- Here it follows a list of functions you may want to use (the required packages are already imported at the beginning of this notebook) along with a very brief explanation of their purpose (`help(nomefun)` will provide you more information about function `nomefun`):\n",
    "    - `transpose`: matrix transposition (e.g., `transpose(X)`)\n",
    "    - `dot`: matrix multiplication (e.g., `X.dot(X2)`) \n",
    "    - `inv`: matrix inversion (e.g., `inv(X)`)\n",
    "- to solve the lasso problem you will need to perform a numerical minimization of the associated loss function (as you know, a closed form solution does not exist). There are many numerical optimization algorithms available in the scipy package. My suggestion is to use `fmin_bfgs`. Here it follows an example of how to use it:\n",
    "    ```python\n",
    "        def f(w):\n",
    "            return w[0]**2 + w[1]**2 + w[0] + w[1]\n",
    "        \n",
    "        w = fmin_bfgs(f, [0,0])\n",
    "    ```\n",
    "    note that the function may (and should) reference your data variables (i.e., $X$ and $y$).\n",
    "- to evaluate the performances of your solutions use the $S$ statistic:\n",
    "    $$\n",
    "        S =  \\sqrt{ \\frac{1}{n} \\sum_{i=1}^n (y_i' - y_i)^2 }\n",
    "    $$\n",
    "    where $y'_i$ is your model prediction for the i-th example, and $n$ is the number of examples."
   ]
  },
  {
   "cell_type": "markdown",
   "metadata": {},
   "source": [
    "# Exercise \\#1: Least squares for Linear Regression\n",
    "\n",
    "From the theory, we know that the optimal solution $w^*$ to the least squares that minimize the residuals sum have a closed form:\n",
    "$$ w^* = X^+y =(X^TX)^{-1}X^Ty$$"
   ]
  },
  {
   "cell_type": "code",
   "execution_count": 6,
   "metadata": {},
   "outputs": [
    {
     "name": "stdout",
     "output_type": "stream",
     "text": [
      "Weights:\n",
      "[-1.91246374e-01  4.42289967e-02  5.52207977e-02  1.71631351e+00\n",
      " -1.49957220e+01  4.88773025e+00  2.60921031e-03 -1.29480799e+00\n",
      "  4.84787214e-01 -1.54006673e-02 -8.08795026e-01 -1.29230427e-03\n",
      " -5.17953791e-01  2.86725996e+01]\n"
     ]
    }
   ],
   "source": [
    "w = np.linalg.pinv(X).dot(y)\n",
    "print(\"Weights:\\n{}\".format(w))"
   ]
  },
  {
   "cell_type": "markdown",
   "metadata": {},
   "source": [
    "To check if our results are consistent with more robust implementation, we compare our \"custom\" implementation with the one provided by sci-kit learn package"
   ]
  },
  {
   "cell_type": "code",
   "execution_count": 7,
   "metadata": {},
   "outputs": [
    {
     "name": "stdout",
     "output_type": "stream",
     "text": [
      "Custom predictions and sklearn predictions are equal!\n"
     ]
    }
   ],
   "source": [
    "from sklearn.linear_model import LinearRegression\n",
    "\n",
    "reg = LinearRegression(copy_X=False)\n",
    "reg.fit(X,y) # fit sklearn model to data\n",
    "\n",
    "custom_predictions = X_test.dot(w)\n",
    "sklearn_predictions = reg.predict(X_test)\n",
    "\n",
    "msg = \"Custom predictions and sklearn predictions are {}!\"\n",
    "print(msg.format(\"equal\")) if np.allclose(sklearn_predictions, custom_predictions) else print(msg.format(\"different\"))"
   ]
  },
  {
   "cell_type": "markdown",
   "metadata": {},
   "source": [
    "### Evaluate model performance\n",
    "To evaluate the model performance, we compute the error on the *test set* using the RMSE metric.\n",
    "Since RMSE is expressed in the same unit scale of the target variable, to asses qualitatively the goodness of RMSE we check the regression variable range ($y_{max}-y_{min}$)"
   ]
  },
  {
   "cell_type": "code",
   "execution_count": 10,
   "metadata": {},
   "outputs": [
    {
     "name": "stdout",
     "output_type": "stream",
     "text": [
      "Model's RMSE: 6.156\n",
      "Target variable scale: 45.0\n"
     ]
    }
   ],
   "source": [
    "from sklearn.metrics import mean_squared_error\n",
    "\n",
    "rmse = mean_squared_error(y_test,custom_predictions,squared=False)\n",
    "print(\"Model's RMSE: {:.3f}\\nTarget variable scale: {}\".format(rmse, np.ptp(target)))\n"
   ]
  },
  {
   "cell_type": "markdown",
   "metadata": {},
   "source": [
    "## Exercise \\#2: Use Ridge Regularization\n",
    "To make our model more robust to noise error into the data, we can apply the most basic regularization's technique: the *ridge regularization* method (aka *Tikhonov* regularization). In layman's terms this method apply a simple **constraint** on the model' weights vector constraining it's squared norm $||\\cdot||_2$. The regularization contribution can be tweaked by the *shrinkage parameter* $\\lambda$. The solution $w^*$ to the optimization problem could be rewrited as:\n",
    "\n",
    "$$ w^* = \\operatorname*{argmin}_w || y-Xw||^2_2 + \\lambda ||w||_2^2 $$\n",
    "\n",
    "Also in this case we have a closed form solution:\n",
    "$$ w^* =(X^TX + \\lambda I)^{-1}X^Ty$$\n"
   ]
  },
  {
   "cell_type": "code",
   "execution_count": 41,
   "metadata": {},
   "outputs": [
    {
     "name": "stdout",
     "output_type": "stream",
     "text": [
      "Weights:\n",
      "[-1.91174244e-01  4.42530512e-02  5.46287404e-02  1.71529415e+00\n",
      " -1.48622418e+01  4.88842996e+00  2.50455102e-03 -1.29305879e+00\n",
      "  4.84462126e-01 -1.54188414e-02 -8.07341324e-01 -1.24926078e-03\n",
      " -5.18127190e-01  0.00000000e+00]\n"
     ]
    }
   ],
   "source": [
    "shrinkage =0.01 # tweak shrinkage parameter\n",
    "\n",
    "def custom_ridge(X,y,shrinkage):\n",
    "    square_matrix = np.matmul(X.T,X)\n",
    "    I = np.identity(square_matrix.shape[0]) * shrinkage\n",
    "    inverse = np.linalg.inv(square_matrix + I)\n",
    "\n",
    "    w_ridge = np.matmul(inverse,X.T).dot(y)\n",
    "    \n",
    "    return w_ridge\n",
    "w_ridge = custom_ridge(X,y,shrinkage)\n",
    "\n",
    "print(\"Weights:\\n{}\".format(w_ridge))"
   ]
  },
  {
   "cell_type": "markdown",
   "metadata": {},
   "source": [
    "### Compare with sci-kit learn implementation"
   ]
  },
  {
   "cell_type": "code",
   "execution_count": 42,
   "metadata": {},
   "outputs": [
    {
     "name": "stdout",
     "output_type": "stream",
     "text": [
      "Custom  and sklearn regression coefficients are equal!\n"
     ]
    }
   ],
   "source": [
    "from sklearn.linear_model import Ridge\n",
    "\n",
    "ridge_reg = Ridge(alpha=shrinkage,copy_X=False)\n",
    "ridge_reg.fit(X,y) # fit sklearn model to data\n",
    "\n",
    "msg = \"Custom  and sklearn regression coefficients are {}!\"\n",
    "print(msg.format(\"equal\")) if np.allclose(w_ridge, ridge_reg.coef_) else print(msg.format(\"different\"))"
   ]
  },
  {
   "cell_type": "code",
   "execution_count": null,
   "metadata": {},
   "outputs": [],
   "source": []
  },
  {
   "cell_type": "markdown",
   "metadata": {},
   "source": [
    "### Evaluate model performance"
   ]
  },
  {
   "cell_type": "code",
   "execution_count": 43,
   "metadata": {},
   "outputs": [
    {
     "name": "stdout",
     "output_type": "stream",
     "text": [
      "Model's RMSE: 25.490\n",
      "Target variable scale: 45.0\n"
     ]
    }
   ],
   "source": [
    "predictions = X_test.dot(w_ridge)\n",
    "\n",
    "rmse = mean_squared_error(y_test,predictions,squared=False)\n",
    "print(\"Model's RMSE: {:.3f}\\nTarget variable scale: {}\".format(rmse, np.ptp(target)))"
   ]
  },
  {
   "cell_type": "markdown",
   "metadata": {},
   "source": [
    "## Shrinkage effect visualization\n",
    "To asses how weights changed when $\\lambda$ gets higher value, we train a different model with increasing shrinkage coefficient and than plot a line for each weight"
   ]
  },
  {
   "cell_type": "code",
   "execution_count": 12,
   "metadata": {},
   "outputs": [
    {
     "data": {
      "image/png": "[encoded data removed]",
      "text/plain": [
       "<Figure size 720x432 with 1 Axes>"
      ]
     },
     "metadata": {
      "needs_background": "light"
     },
     "output_type": "display_data"
    }
   ],
   "source": [
    "import matplotlib.pyplot as plt\n",
    "\n",
    "shrinkages = np.logspace(0,5,100)\n",
    "\n",
    "coeffs=[]\n",
    "for s in shrinkages:\n",
    "    w = custom_ridge(X,y,s)\n",
    "    coeffs.append(w)\n",
    "    \n",
    "    \n",
    "fig, ax = plt.subplots(1,1,figsize=(10,6))\n",
    "ax.plot(shrinkages,coeffs)\n",
    "\n",
    "ax.set_xscale('log')\n",
    "ax.set_xlabel(\"$\\lambda$\")\n",
    "ax.set_ylabel(\"Weights\")\n",
    "ax.set_title(\"Weights magnitude as a function of shrinkage parameter $\\lambda$\");"
   ]
  },
  {
   "cell_type": "markdown",
   "metadata": {},
   "source": [
    "## Exercise \\#3: Use LASSO Regularization\n",
    "Lasso regualarization methods is similar to the previus one, the main difference is that the constraint is expressed in $||\\cdot||_1$ norm. The solution $w^*$ to the optimization problem could be rewritten as:\n",
    "$$\n",
    "w^* = \\operatorname*{minimize}_w ||y-Xw||^2_2 + \\lambda||w||_1\n",
    "$$\n",
    "\n",
    "\n",
    "\n",
    "Unfortunately there's **no closed form solution**, so we must use an iterative optimization method to minimize the loss function"
   ]
  },
  {
   "cell_type": "code",
   "execution_count": 18,
   "metadata": {},
   "outputs": [],
   "source": [
    "import scipy.optimize as opt"
   ]
  },
  {
   "cell_type": "code",
   "execution_count": 19,
   "metadata": {},
   "outputs": [],
   "source": [
    "t = np.ones(len(data)).reshape(len(data),1)\n",
    "data = np.append(data, t, 1)\n",
    "target = np.array(boston.target)\n",
    "data.shape\n",
    "\n",
    "X,y = data[0:400,:], target[0:400]\n",
    "X_test, y_test = data[400:,:], target[400:]"
   ]
  },
  {
   "cell_type": "code",
   "execution_count": 31,
   "metadata": {},
   "outputs": [],
   "source": [
    "def lasso_loss(w,X,y,shrinkage):\n",
    "    pred = X.dot(w) # get prediction (y'=X*w)\n",
    "    ssd = np.sum((y-pred)**2) # sum of squared differences\n",
    "    \n",
    "    return (1/(2*X.shape[0])) * ssd + shrinkage * np.linalg.norm(w,ord=1)\n",
    "\n",
    "def lasso_fit(X,y,shrinkage):\n",
    "    \n",
    "    w_init = np.zeros(X.shape[1])\n",
    "    res = opt.minimize(lasso_loss, x0=w_init, args=(X,y,shrinkage),\n",
    "                       method='Nelder-Mead',options={'maxiter':100000,'disp':True})\n",
    "    return res['x']"
   ]
  },
  {
   "cell_type": "code",
   "execution_count": 27,
   "metadata": {},
   "outputs": [
    {
     "name": "stdout",
     "output_type": "stream",
     "text": [
      "Optimization terminated successfully.\n",
      "         Current function value: 226333.051130\n",
      "         Iterations: 4479\n",
      "         Function evaluations: 5881\n"
     ]
    }
   ],
   "source": [
    "w_lasso = lasso_fit(X,y,shrinkage=2.5)"
   ]
  },
  {
   "cell_type": "code",
   "execution_count": 28,
   "metadata": {},
   "outputs": [
    {
     "data": {
      "text/plain": [
       "array([ 0.56059039, -0.00959534, -0.42714985,  0.3716057 ,  2.71368608,\n",
       "        5.60895417, -0.05307812, -2.62471334, -1.70681963,  0.06249757,\n",
       "       -0.63549734,  0.04287858, -0.69142989, -5.43038798,  2.03828983])"
      ]
     },
     "execution_count": 28,
     "metadata": {},
     "output_type": "execute_result"
    }
   ],
   "source": [
    "w_lasso"
   ]
  },
  {
   "cell_type": "code",
   "execution_count": 29,
   "metadata": {},
   "outputs": [
    {
     "data": {
      "text/plain": [
       "Lasso(alpha=2.5, copy_X=True, fit_intercept=True, max_iter=1000,\n",
       "      normalize=False, positive=False, precompute=False, random_state=None,\n",
       "      selection='cyclic', tol=0.0001, warm_start=False)"
      ]
     },
     "execution_count": 29,
     "metadata": {},
     "output_type": "execute_result"
    }
   ],
   "source": [
    "from sklearn.linear_model import Lasso\n",
    "lasso = Lasso(alpha=2.5)\n",
    "lasso.fit(X,y)"
   ]
  },
  {
   "cell_type": "code",
   "execution_count": 30,
   "metadata": {},
   "outputs": [
    {
     "data": {
      "text/plain": [
       "array([-0.        ,  0.03686395, -0.        ,  0.        ,  0.        ,\n",
       "        0.        ,  0.059244  , -0.06243391,  0.20312011, -0.01205994,\n",
       "       -0.47308683,  0.01031908, -0.90971843,  0.        ,  0.        ])"
      ]
     },
     "execution_count": 30,
     "metadata": {},
     "output_type": "execute_result"
    }
   ],
   "source": [
    "lasso.coef_"
   ]
  }
 ],
 "metadata": {
  "anaconda-cloud": {},
  "kernelspec": {
   "display_name": "Python 3",
   "language": "python",
   "name": "python3"
  },
  "language_info": {
   "codemirror_mode": {
    "name": "ipython",
    "version": 3
   },
   "file_extension": ".py",
   "mimetype": "text/x-python",
   "name": "python",
   "nbconvert_exporter": "python",
   "pygments_lexer": "ipython3",
   "version": "3.7.4"
  }
 },
 "nbformat": 4,
 "nbformat_minor": 4
}
